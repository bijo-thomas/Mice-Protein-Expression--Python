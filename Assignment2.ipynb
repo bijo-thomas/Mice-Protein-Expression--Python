{
 "cells": [
  {
   "cell_type": "markdown",
   "metadata": {},
   "source": [
    "## Title: Mice Protein Level Expression\n",
    "### Student Name: Bijo B Thomas\n",
    "### Student Id: s3758150"
   ]
  },
  {
   "cell_type": "markdown",
   "metadata": {},
   "source": [
    "## Importing the Libraries"
   ]
  },
  {
   "cell_type": "code",
   "execution_count": 1,
   "metadata": {},
   "outputs": [],
   "source": [
    "import pandas as pd\n",
    "import numpy as np \n",
    "from sklearn.neighbors import KNeighborsClassifier\n",
    "from sklearn.tree import DecisionTreeClassifier\n",
    "from  sklearn.model_selection import train_test_split\n",
    "from sklearn.metrics import accuracy_score\n",
    "import seaborn as sns\n",
    "import os"
   ]
  },
  {
   "cell_type": "markdown",
   "metadata": {},
   "source": [
    "## Reading and preprocessing the data"
   ]
  },
  {
   "cell_type": "code",
   "execution_count": 2,
   "metadata": {},
   "outputs": [],
   "source": [
    "df = pd.read_csv(\"Data_Cortex_Nuclear.csv\")"
   ]
  },
  {
   "cell_type": "code",
   "execution_count": 3,
   "metadata": {},
   "outputs": [
    {
     "data": {
      "text/plain": [
       "(1080, 82)"
      ]
     },
     "execution_count": 3,
     "metadata": {},
     "output_type": "execute_result"
    }
   ],
   "source": [
    "df.shape"
   ]
  },
  {
   "cell_type": "code",
   "execution_count": 4,
   "metadata": {},
   "outputs": [
    {
     "data": {
      "text/html": [
       "<div>\n",
       "<style scoped>\n",
       "    .dataframe tbody tr th:only-of-type {\n",
       "        vertical-align: middle;\n",
       "    }\n",
       "\n",
       "    .dataframe tbody tr th {\n",
       "        vertical-align: top;\n",
       "    }\n",
       "\n",
       "    .dataframe thead th {\n",
       "        text-align: right;\n",
       "    }\n",
       "</style>\n",
       "<table border=\"1\" class=\"dataframe\">\n",
       "  <thead>\n",
       "    <tr style=\"text-align: right;\">\n",
       "      <th></th>\n",
       "      <th>MouseID</th>\n",
       "      <th>DYRK1A_N</th>\n",
       "      <th>ITSN1_N</th>\n",
       "      <th>BDNF_N</th>\n",
       "      <th>NR1_N</th>\n",
       "      <th>NR2A_N</th>\n",
       "      <th>pAKT_N</th>\n",
       "      <th>pBRAF_N</th>\n",
       "      <th>pCAMKII_N</th>\n",
       "      <th>pCREB_N</th>\n",
       "      <th>...</th>\n",
       "      <th>pCFOS_N</th>\n",
       "      <th>SYP_N</th>\n",
       "      <th>H3AcK18_N</th>\n",
       "      <th>EGR1_N</th>\n",
       "      <th>H3MeK4_N</th>\n",
       "      <th>CaNA_N</th>\n",
       "      <th>Genotype</th>\n",
       "      <th>Treatment</th>\n",
       "      <th>Behavior</th>\n",
       "      <th>class</th>\n",
       "    </tr>\n",
       "  </thead>\n",
       "  <tbody>\n",
       "    <tr>\n",
       "      <th>0</th>\n",
       "      <td>309_1</td>\n",
       "      <td>0.503644</td>\n",
       "      <td>0.747193</td>\n",
       "      <td>0.430175</td>\n",
       "      <td>2.816329</td>\n",
       "      <td>5.990152</td>\n",
       "      <td>0.218830</td>\n",
       "      <td>0.177565</td>\n",
       "      <td>2.373744</td>\n",
       "      <td>0.232224</td>\n",
       "      <td>...</td>\n",
       "      <td>0.108336</td>\n",
       "      <td>0.427099</td>\n",
       "      <td>0.114783</td>\n",
       "      <td>0.131790</td>\n",
       "      <td>0.128186</td>\n",
       "      <td>1.675652</td>\n",
       "      <td>Control</td>\n",
       "      <td>Memantine</td>\n",
       "      <td>C/S</td>\n",
       "      <td>c-CS-m</td>\n",
       "    </tr>\n",
       "    <tr>\n",
       "      <th>1</th>\n",
       "      <td>309_2</td>\n",
       "      <td>0.514617</td>\n",
       "      <td>0.689064</td>\n",
       "      <td>0.411770</td>\n",
       "      <td>2.789514</td>\n",
       "      <td>5.685038</td>\n",
       "      <td>0.211636</td>\n",
       "      <td>0.172817</td>\n",
       "      <td>2.292150</td>\n",
       "      <td>0.226972</td>\n",
       "      <td>...</td>\n",
       "      <td>0.104315</td>\n",
       "      <td>0.441581</td>\n",
       "      <td>0.111974</td>\n",
       "      <td>0.135103</td>\n",
       "      <td>0.131119</td>\n",
       "      <td>1.743610</td>\n",
       "      <td>Control</td>\n",
       "      <td>Memantine</td>\n",
       "      <td>C/S</td>\n",
       "      <td>c-CS-m</td>\n",
       "    </tr>\n",
       "    <tr>\n",
       "      <th>2</th>\n",
       "      <td>309_3</td>\n",
       "      <td>0.509183</td>\n",
       "      <td>0.730247</td>\n",
       "      <td>0.418309</td>\n",
       "      <td>2.687201</td>\n",
       "      <td>5.622059</td>\n",
       "      <td>0.209011</td>\n",
       "      <td>0.175722</td>\n",
       "      <td>2.283337</td>\n",
       "      <td>0.230247</td>\n",
       "      <td>...</td>\n",
       "      <td>0.106219</td>\n",
       "      <td>0.435777</td>\n",
       "      <td>0.111883</td>\n",
       "      <td>0.133362</td>\n",
       "      <td>0.127431</td>\n",
       "      <td>1.926427</td>\n",
       "      <td>Control</td>\n",
       "      <td>Memantine</td>\n",
       "      <td>C/S</td>\n",
       "      <td>c-CS-m</td>\n",
       "    </tr>\n",
       "    <tr>\n",
       "      <th>3</th>\n",
       "      <td>309_4</td>\n",
       "      <td>0.442107</td>\n",
       "      <td>0.617076</td>\n",
       "      <td>0.358626</td>\n",
       "      <td>2.466947</td>\n",
       "      <td>4.979503</td>\n",
       "      <td>0.222886</td>\n",
       "      <td>0.176463</td>\n",
       "      <td>2.152301</td>\n",
       "      <td>0.207004</td>\n",
       "      <td>...</td>\n",
       "      <td>0.111262</td>\n",
       "      <td>0.391691</td>\n",
       "      <td>0.130405</td>\n",
       "      <td>0.147444</td>\n",
       "      <td>0.146901</td>\n",
       "      <td>1.700563</td>\n",
       "      <td>Control</td>\n",
       "      <td>Memantine</td>\n",
       "      <td>C/S</td>\n",
       "      <td>c-CS-m</td>\n",
       "    </tr>\n",
       "    <tr>\n",
       "      <th>4</th>\n",
       "      <td>309_5</td>\n",
       "      <td>0.434940</td>\n",
       "      <td>0.617430</td>\n",
       "      <td>0.358802</td>\n",
       "      <td>2.365785</td>\n",
       "      <td>4.718679</td>\n",
       "      <td>0.213106</td>\n",
       "      <td>0.173627</td>\n",
       "      <td>2.134014</td>\n",
       "      <td>0.192158</td>\n",
       "      <td>...</td>\n",
       "      <td>0.110694</td>\n",
       "      <td>0.434154</td>\n",
       "      <td>0.118481</td>\n",
       "      <td>0.140314</td>\n",
       "      <td>0.148380</td>\n",
       "      <td>1.839730</td>\n",
       "      <td>Control</td>\n",
       "      <td>Memantine</td>\n",
       "      <td>C/S</td>\n",
       "      <td>c-CS-m</td>\n",
       "    </tr>\n",
       "  </tbody>\n",
       "</table>\n",
       "<p>5 rows × 82 columns</p>\n",
       "</div>"
      ],
      "text/plain": [
       "  MouseID  DYRK1A_N   ITSN1_N    BDNF_N     NR1_N    NR2A_N    pAKT_N  \\\n",
       "0   309_1  0.503644  0.747193  0.430175  2.816329  5.990152  0.218830   \n",
       "1   309_2  0.514617  0.689064  0.411770  2.789514  5.685038  0.211636   \n",
       "2   309_3  0.509183  0.730247  0.418309  2.687201  5.622059  0.209011   \n",
       "3   309_4  0.442107  0.617076  0.358626  2.466947  4.979503  0.222886   \n",
       "4   309_5  0.434940  0.617430  0.358802  2.365785  4.718679  0.213106   \n",
       "\n",
       "    pBRAF_N  pCAMKII_N   pCREB_N   ...     pCFOS_N     SYP_N  H3AcK18_N  \\\n",
       "0  0.177565   2.373744  0.232224   ...    0.108336  0.427099   0.114783   \n",
       "1  0.172817   2.292150  0.226972   ...    0.104315  0.441581   0.111974   \n",
       "2  0.175722   2.283337  0.230247   ...    0.106219  0.435777   0.111883   \n",
       "3  0.176463   2.152301  0.207004   ...    0.111262  0.391691   0.130405   \n",
       "4  0.173627   2.134014  0.192158   ...    0.110694  0.434154   0.118481   \n",
       "\n",
       "     EGR1_N  H3MeK4_N    CaNA_N  Genotype  Treatment  Behavior   class  \n",
       "0  0.131790  0.128186  1.675652   Control  Memantine       C/S  c-CS-m  \n",
       "1  0.135103  0.131119  1.743610   Control  Memantine       C/S  c-CS-m  \n",
       "2  0.133362  0.127431  1.926427   Control  Memantine       C/S  c-CS-m  \n",
       "3  0.147444  0.146901  1.700563   Control  Memantine       C/S  c-CS-m  \n",
       "4  0.140314  0.148380  1.839730   Control  Memantine       C/S  c-CS-m  \n",
       "\n",
       "[5 rows x 82 columns]"
      ]
     },
     "execution_count": 4,
     "metadata": {},
     "output_type": "execute_result"
    }
   ],
   "source": [
    "df.head()"
   ]
  },
  {
   "cell_type": "markdown",
   "metadata": {},
   "source": [
    "Since mouse Id doesnt contribute to any analysis, we remove the column"
   ]
  },
  {
   "cell_type": "code",
   "execution_count": 5,
   "metadata": {},
   "outputs": [],
   "source": [
    "#Since mouse Id soesnt contribute to any analysis, we remove the column\n",
    "df.drop(columns = 'MouseID',inplace = True)\n"
   ]
  },
  {
   "cell_type": "markdown",
   "metadata": {},
   "source": [
    "checking for any white spaces and irregularities in the cell values"
   ]
  },
  {
   "cell_type": "code",
   "execution_count": 6,
   "metadata": {},
   "outputs": [
    {
     "name": "stdout",
     "output_type": "stream",
     "text": [
      "Control    570\n",
      "Ts65Dn     510\n",
      "Name: Genotype, dtype: int64  \n",
      "\n",
      "Memantine    570\n",
      "Saline       510\n",
      "Name: Treatment, dtype: int64  \n",
      "\n",
      "S/C    555\n",
      "C/S    525\n",
      "Name: Behavior, dtype: int64  \n",
      "\n",
      "c-CS-m    150\n",
      "c-SC-m    150\n",
      "c-SC-s    135\n",
      "c-CS-s    135\n",
      "t-SC-s    135\n",
      "t-SC-m    135\n",
      "t-CS-m    135\n",
      "t-CS-s    105\n",
      "Name: class, dtype: int64  \n",
      "\n"
     ]
    }
   ],
   "source": [
    "for columns in df.columns:\n",
    "    if(df[columns].dtypes == object):\n",
    "        print(df[columns].value_counts(),\" \\n\")"
   ]
  },
  {
   "cell_type": "code",
   "execution_count": 7,
   "metadata": {},
   "outputs": [
    {
     "data": {
      "text/plain": [
       "DYRK1A_N             3\n",
       "ITSN1_N              3\n",
       "BDNF_N               3\n",
       "NR1_N                3\n",
       "NR2A_N               3\n",
       "pAKT_N               3\n",
       "pBRAF_N              3\n",
       "pCAMKII_N            3\n",
       "pCREB_N              3\n",
       "pELK_N               3\n",
       "pERK_N               3\n",
       "pJNK_N               3\n",
       "PKCA_N               3\n",
       "pMEK_N               3\n",
       "pNR1_N               3\n",
       "pNR2A_N              3\n",
       "pNR2B_N              3\n",
       "pPKCAB_N             3\n",
       "pRSK_N               3\n",
       "AKT_N                3\n",
       "BRAF_N               3\n",
       "CAMKII_N             3\n",
       "CREB_N               3\n",
       "ELK_N               18\n",
       "ERK_N                3\n",
       "GSK3B_N              3\n",
       "JNK_N                3\n",
       "MEK_N                7\n",
       "TRKA_N               3\n",
       "RSK_N                3\n",
       "                  ... \n",
       "RRP1_N               0\n",
       "BAX_N                0\n",
       "ARC_N                0\n",
       "ERBB4_N              0\n",
       "nNOS_N               0\n",
       "Tau_N                0\n",
       "GFAP_N               0\n",
       "GluR3_N              0\n",
       "GluR4_N              0\n",
       "IL1B_N               0\n",
       "P3525_N              0\n",
       "pCASP9_N             0\n",
       "PSD95_N              0\n",
       "SNCA_N               0\n",
       "Ubiquitin_N          0\n",
       "pGSK3B_Tyr216_N      0\n",
       "SHH_N                0\n",
       "BAD_N              213\n",
       "BCL2_N             285\n",
       "pS6_N                0\n",
       "pCFOS_N             75\n",
       "SYP_N                0\n",
       "H3AcK18_N          180\n",
       "EGR1_N             210\n",
       "H3MeK4_N           270\n",
       "CaNA_N               0\n",
       "Genotype             0\n",
       "Treatment            0\n",
       "Behavior             0\n",
       "class                0\n",
       "Length: 81, dtype: int64"
      ]
     },
     "execution_count": 7,
     "metadata": {},
     "output_type": "execute_result"
    }
   ],
   "source": [
    "df.isnull().sum()"
   ]
  },
  {
   "cell_type": "markdown",
   "metadata": {},
   "source": [
    "checking for empty cells in each row"
   ]
  },
  {
   "cell_type": "code",
   "execution_count": 8,
   "metadata": {},
   "outputs": [],
   "source": [
    "#checking for empty cells in each row\n",
    "df['Empty Cells']=df.isnull().sum(axis=1)"
   ]
  },
  {
   "cell_type": "code",
   "execution_count": 9,
   "metadata": {},
   "outputs": [
    {
     "name": "stdout",
     "output_type": "stream",
     "text": [
      "[987, 988, 989]\n"
     ]
    }
   ],
   "source": [
    "list = []\n",
    "for ind,rows in df.iterrows():\n",
    "    if (rows['Empty Cells'] > 40):\n",
    "        list.append(ind)\n",
    "print(list)\n"
   ]
  },
  {
   "cell_type": "markdown",
   "metadata": {},
   "source": [
    "#### Since these rows have majority of empty cells we drop these rows"
   ]
  },
  {
   "cell_type": "code",
   "execution_count": 10,
   "metadata": {},
   "outputs": [],
   "source": [
    "df.drop(df.index[list],inplace=True)"
   ]
  },
  {
   "cell_type": "markdown",
   "metadata": {},
   "source": [
    "Now we impute the null values with the median of the column"
   ]
  },
  {
   "cell_type": "code",
   "execution_count": 11,
   "metadata": {},
   "outputs": [],
   "source": [
    "for cols in df.select_dtypes(['int','float']):\n",
    "    df[cols].fillna(df[cols].median(),inplace=True)"
   ]
  },
  {
   "cell_type": "markdown",
   "metadata": {},
   "source": [
    "### Checking for outliers and removal of outliers"
   ]
  },
  {
   "cell_type": "code",
   "execution_count": 12,
   "metadata": {},
   "outputs": [
    {
     "name": "stdout",
     "output_type": "stream",
     "text": [
      "23  features has outliers\n"
     ]
    }
   ],
   "source": [
    "count = 0\n",
    "for col in df.select_dtypes(['int','float']):\n",
    "    q1 = np.percentile(df[col],25,interpolation = 'midpoint')\n",
    "    q2 = np.percentile(df[col],75,interpolation = 'midpoint')\n",
    "    iqr = q3 =q1\n",
    "    if(df[col].min() <(q1 - 1.5*iqr) or (df[col].max() >(q3 + 1.5*iqr))):\n",
    "        count = count +1\n",
    "print(count,\" features has outliers\")    "
   ]
  },
  {
   "cell_type": "code",
   "execution_count": 13,
   "metadata": {},
   "outputs": [],
   "source": [
    "for col in df.select_dtypes(['int','float']):\n",
    "    q1 = np.percentile(df[col],25,interpolation = 'midpoint')\n",
    "    q2 = np.percentile(df[col],75,interpolation = 'midpoint')\n",
    "    iqr = q3 =q1\n",
    "    if(df[col].min() < (q1 - 1.5*iqr)):\n",
    "        df[col] = np.where(df[col] < (q1 - 1.5*iqr),(q1 - 1.5*iqr),df[col])\n",
    "    elif (df[col].max() > (q3 + 1.5*iqr)):\n",
    "        df[col] = np.where(df[col] > (q3 + 1.5*iqr),(q3 + 1.5*iqr),df[col])"
   ]
  },
  {
   "cell_type": "markdown",
   "metadata": {},
   "source": [
    "## Exploring the data"
   ]
  },
  {
   "cell_type": "markdown",
   "metadata": {},
   "source": [
    "We check for correlation between the features"
   ]
  },
  {
   "cell_type": "code",
   "execution_count": 14,
   "metadata": {
    "scrolled": true
   },
   "outputs": [
    {
     "data": {
      "text/html": [
       "<div>\n",
       "<style scoped>\n",
       "    .dataframe tbody tr th:only-of-type {\n",
       "        vertical-align: middle;\n",
       "    }\n",
       "\n",
       "    .dataframe tbody tr th {\n",
       "        vertical-align: top;\n",
       "    }\n",
       "\n",
       "    .dataframe thead th {\n",
       "        text-align: right;\n",
       "    }\n",
       "</style>\n",
       "<table border=\"1\" class=\"dataframe\">\n",
       "  <thead>\n",
       "    <tr style=\"text-align: right;\">\n",
       "      <th></th>\n",
       "      <th>DYRK1A_N</th>\n",
       "      <th>ITSN1_N</th>\n",
       "      <th>BDNF_N</th>\n",
       "      <th>NR1_N</th>\n",
       "      <th>NR2A_N</th>\n",
       "      <th>pAKT_N</th>\n",
       "      <th>pBRAF_N</th>\n",
       "      <th>pCAMKII_N</th>\n",
       "      <th>pCREB_N</th>\n",
       "      <th>pELK_N</th>\n",
       "      <th>...</th>\n",
       "      <th>SHH_N</th>\n",
       "      <th>BAD_N</th>\n",
       "      <th>BCL2_N</th>\n",
       "      <th>pS6_N</th>\n",
       "      <th>pCFOS_N</th>\n",
       "      <th>SYP_N</th>\n",
       "      <th>H3AcK18_N</th>\n",
       "      <th>EGR1_N</th>\n",
       "      <th>H3MeK4_N</th>\n",
       "      <th>CaNA_N</th>\n",
       "    </tr>\n",
       "  </thead>\n",
       "  <tbody>\n",
       "    <tr>\n",
       "      <th>DYRK1A_N</th>\n",
       "      <td>1.000000</td>\n",
       "      <td>0.926275</td>\n",
       "      <td>0.389031</td>\n",
       "      <td>0.299626</td>\n",
       "      <td>0.336227</td>\n",
       "      <td>-0.203607</td>\n",
       "      <td>-0.132712</td>\n",
       "      <td>-0.208707</td>\n",
       "      <td>0.050257</td>\n",
       "      <td>0.677330</td>\n",
       "      <td>...</td>\n",
       "      <td>-0.233295</td>\n",
       "      <td>-0.313693</td>\n",
       "      <td>-0.229677</td>\n",
       "      <td>-0.385758</td>\n",
       "      <td>-0.324606</td>\n",
       "      <td>-0.096660</td>\n",
       "      <td>-0.363787</td>\n",
       "      <td>-0.426834</td>\n",
       "      <td>-0.412101</td>\n",
       "      <td>0.561693</td>\n",
       "    </tr>\n",
       "    <tr>\n",
       "      <th>ITSN1_N</th>\n",
       "      <td>0.926275</td>\n",
       "      <td>1.000000</td>\n",
       "      <td>0.495427</td>\n",
       "      <td>0.457687</td>\n",
       "      <td>0.455101</td>\n",
       "      <td>-0.155195</td>\n",
       "      <td>-0.102318</td>\n",
       "      <td>-0.137693</td>\n",
       "      <td>0.211497</td>\n",
       "      <td>0.717790</td>\n",
       "      <td>...</td>\n",
       "      <td>-0.224595</td>\n",
       "      <td>-0.392302</td>\n",
       "      <td>-0.310137</td>\n",
       "      <td>-0.264132</td>\n",
       "      <td>-0.396433</td>\n",
       "      <td>0.030729</td>\n",
       "      <td>-0.322935</td>\n",
       "      <td>-0.475570</td>\n",
       "      <td>-0.432018</td>\n",
       "      <td>0.584472</td>\n",
       "    </tr>\n",
       "    <tr>\n",
       "      <th>BDNF_N</th>\n",
       "      <td>0.389031</td>\n",
       "      <td>0.495427</td>\n",
       "      <td>1.000000</td>\n",
       "      <td>0.805784</td>\n",
       "      <td>0.749927</td>\n",
       "      <td>0.319493</td>\n",
       "      <td>0.390530</td>\n",
       "      <td>0.241885</td>\n",
       "      <td>0.603857</td>\n",
       "      <td>0.514643</td>\n",
       "      <td>...</td>\n",
       "      <td>-0.080776</td>\n",
       "      <td>-0.174017</td>\n",
       "      <td>-0.132020</td>\n",
       "      <td>0.127703</td>\n",
       "      <td>-0.249404</td>\n",
       "      <td>0.450433</td>\n",
       "      <td>-0.119196</td>\n",
       "      <td>-0.221713</td>\n",
       "      <td>-0.221859</td>\n",
       "      <td>0.262578</td>\n",
       "    </tr>\n",
       "    <tr>\n",
       "      <th>NR1_N</th>\n",
       "      <td>0.299626</td>\n",
       "      <td>0.457687</td>\n",
       "      <td>0.805784</td>\n",
       "      <td>1.000000</td>\n",
       "      <td>0.873810</td>\n",
       "      <td>0.212995</td>\n",
       "      <td>0.244224</td>\n",
       "      <td>0.297296</td>\n",
       "      <td>0.597443</td>\n",
       "      <td>0.467155</td>\n",
       "      <td>...</td>\n",
       "      <td>-0.141423</td>\n",
       "      <td>-0.341432</td>\n",
       "      <td>-0.290608</td>\n",
       "      <td>0.264181</td>\n",
       "      <td>-0.364932</td>\n",
       "      <td>0.473366</td>\n",
       "      <td>-0.225549</td>\n",
       "      <td>-0.279915</td>\n",
       "      <td>-0.305798</td>\n",
       "      <td>0.205463</td>\n",
       "    </tr>\n",
       "    <tr>\n",
       "      <th>NR2A_N</th>\n",
       "      <td>0.336227</td>\n",
       "      <td>0.455101</td>\n",
       "      <td>0.749927</td>\n",
       "      <td>0.873810</td>\n",
       "      <td>1.000000</td>\n",
       "      <td>0.111719</td>\n",
       "      <td>0.110929</td>\n",
       "      <td>0.275279</td>\n",
       "      <td>0.392849</td>\n",
       "      <td>0.462741</td>\n",
       "      <td>...</td>\n",
       "      <td>-0.259197</td>\n",
       "      <td>-0.398054</td>\n",
       "      <td>-0.260422</td>\n",
       "      <td>0.263526</td>\n",
       "      <td>-0.415719</td>\n",
       "      <td>0.401290</td>\n",
       "      <td>-0.302659</td>\n",
       "      <td>-0.310935</td>\n",
       "      <td>-0.386468</td>\n",
       "      <td>0.187760</td>\n",
       "    </tr>\n",
       "    <tr>\n",
       "      <th>pAKT_N</th>\n",
       "      <td>-0.203607</td>\n",
       "      <td>-0.155195</td>\n",
       "      <td>0.319493</td>\n",
       "      <td>0.212995</td>\n",
       "      <td>0.111719</td>\n",
       "      <td>1.000000</td>\n",
       "      <td>0.828465</td>\n",
       "      <td>0.461656</td>\n",
       "      <td>0.598918</td>\n",
       "      <td>0.082270</td>\n",
       "      <td>...</td>\n",
       "      <td>0.144670</td>\n",
       "      <td>0.270664</td>\n",
       "      <td>0.229064</td>\n",
       "      <td>0.301811</td>\n",
       "      <td>0.047835</td>\n",
       "      <td>0.249901</td>\n",
       "      <td>0.326479</td>\n",
       "      <td>0.242565</td>\n",
       "      <td>0.286856</td>\n",
       "      <td>-0.239543</td>\n",
       "    </tr>\n",
       "    <tr>\n",
       "      <th>pBRAF_N</th>\n",
       "      <td>-0.132712</td>\n",
       "      <td>-0.102318</td>\n",
       "      <td>0.390530</td>\n",
       "      <td>0.244224</td>\n",
       "      <td>0.110929</td>\n",
       "      <td>0.828465</td>\n",
       "      <td>1.000000</td>\n",
       "      <td>0.375142</td>\n",
       "      <td>0.586992</td>\n",
       "      <td>0.160238</td>\n",
       "      <td>...</td>\n",
       "      <td>0.134769</td>\n",
       "      <td>0.271600</td>\n",
       "      <td>0.262730</td>\n",
       "      <td>0.258775</td>\n",
       "      <td>0.145095</td>\n",
       "      <td>0.284492</td>\n",
       "      <td>0.284534</td>\n",
       "      <td>0.287975</td>\n",
       "      <td>0.300328</td>\n",
       "      <td>-0.213691</td>\n",
       "    </tr>\n",
       "    <tr>\n",
       "      <th>pCAMKII_N</th>\n",
       "      <td>-0.208707</td>\n",
       "      <td>-0.137693</td>\n",
       "      <td>0.241885</td>\n",
       "      <td>0.297296</td>\n",
       "      <td>0.275279</td>\n",
       "      <td>0.461656</td>\n",
       "      <td>0.375142</td>\n",
       "      <td>1.000000</td>\n",
       "      <td>0.404335</td>\n",
       "      <td>-0.083141</td>\n",
       "      <td>...</td>\n",
       "      <td>0.045975</td>\n",
       "      <td>0.068730</td>\n",
       "      <td>0.009709</td>\n",
       "      <td>0.392956</td>\n",
       "      <td>-0.052649</td>\n",
       "      <td>0.248475</td>\n",
       "      <td>0.200028</td>\n",
       "      <td>0.075171</td>\n",
       "      <td>0.063827</td>\n",
       "      <td>-0.376370</td>\n",
       "    </tr>\n",
       "    <tr>\n",
       "      <th>pCREB_N</th>\n",
       "      <td>0.050257</td>\n",
       "      <td>0.211497</td>\n",
       "      <td>0.603857</td>\n",
       "      <td>0.597443</td>\n",
       "      <td>0.392849</td>\n",
       "      <td>0.598918</td>\n",
       "      <td>0.586992</td>\n",
       "      <td>0.404335</td>\n",
       "      <td>1.000000</td>\n",
       "      <td>0.260379</td>\n",
       "      <td>...</td>\n",
       "      <td>0.065719</td>\n",
       "      <td>-0.055512</td>\n",
       "      <td>-0.093464</td>\n",
       "      <td>0.302119</td>\n",
       "      <td>-0.171975</td>\n",
       "      <td>0.413060</td>\n",
       "      <td>0.217359</td>\n",
       "      <td>-0.109569</td>\n",
       "      <td>0.027473</td>\n",
       "      <td>0.039517</td>\n",
       "    </tr>\n",
       "    <tr>\n",
       "      <th>pELK_N</th>\n",
       "      <td>0.677330</td>\n",
       "      <td>0.717790</td>\n",
       "      <td>0.514643</td>\n",
       "      <td>0.467155</td>\n",
       "      <td>0.462741</td>\n",
       "      <td>0.082270</td>\n",
       "      <td>0.160238</td>\n",
       "      <td>-0.083141</td>\n",
       "      <td>0.260379</td>\n",
       "      <td>1.000000</td>\n",
       "      <td>...</td>\n",
       "      <td>-0.236353</td>\n",
       "      <td>-0.231700</td>\n",
       "      <td>-0.080293</td>\n",
       "      <td>-0.153887</td>\n",
       "      <td>-0.220301</td>\n",
       "      <td>0.040956</td>\n",
       "      <td>-0.249955</td>\n",
       "      <td>-0.241959</td>\n",
       "      <td>-0.261017</td>\n",
       "      <td>0.253765</td>\n",
       "    </tr>\n",
       "    <tr>\n",
       "      <th>pERK_N</th>\n",
       "      <td>0.923623</td>\n",
       "      <td>0.838714</td>\n",
       "      <td>0.372571</td>\n",
       "      <td>0.262149</td>\n",
       "      <td>0.336107</td>\n",
       "      <td>-0.203603</td>\n",
       "      <td>-0.125016</td>\n",
       "      <td>-0.266722</td>\n",
       "      <td>-0.001652</td>\n",
       "      <td>0.623971</td>\n",
       "      <td>...</td>\n",
       "      <td>-0.244988</td>\n",
       "      <td>-0.297801</td>\n",
       "      <td>-0.179986</td>\n",
       "      <td>-0.383440</td>\n",
       "      <td>-0.295996</td>\n",
       "      <td>-0.013233</td>\n",
       "      <td>-0.412935</td>\n",
       "      <td>-0.397276</td>\n",
       "      <td>-0.445906</td>\n",
       "      <td>0.632224</td>\n",
       "    </tr>\n",
       "    <tr>\n",
       "      <th>pJNK_N</th>\n",
       "      <td>-0.128983</td>\n",
       "      <td>-0.029108</td>\n",
       "      <td>0.464904</td>\n",
       "      <td>0.444001</td>\n",
       "      <td>0.391679</td>\n",
       "      <td>0.782072</td>\n",
       "      <td>0.768906</td>\n",
       "      <td>0.563475</td>\n",
       "      <td>0.634465</td>\n",
       "      <td>0.157301</td>\n",
       "      <td>...</td>\n",
       "      <td>-0.009200</td>\n",
       "      <td>0.100297</td>\n",
       "      <td>0.111842</td>\n",
       "      <td>0.405913</td>\n",
       "      <td>-0.075843</td>\n",
       "      <td>0.456537</td>\n",
       "      <td>0.163547</td>\n",
       "      <td>0.110223</td>\n",
       "      <td>0.090396</td>\n",
       "      <td>-0.178951</td>\n",
       "    </tr>\n",
       "    <tr>\n",
       "      <th>PKCA_N</th>\n",
       "      <td>0.355916</td>\n",
       "      <td>0.400288</td>\n",
       "      <td>0.770690</td>\n",
       "      <td>0.614342</td>\n",
       "      <td>0.551115</td>\n",
       "      <td>0.304046</td>\n",
       "      <td>0.307347</td>\n",
       "      <td>0.362364</td>\n",
       "      <td>0.469677</td>\n",
       "      <td>0.333594</td>\n",
       "      <td>...</td>\n",
       "      <td>-0.101781</td>\n",
       "      <td>-0.040438</td>\n",
       "      <td>-0.146638</td>\n",
       "      <td>-0.056783</td>\n",
       "      <td>-0.215932</td>\n",
       "      <td>0.378089</td>\n",
       "      <td>-0.048359</td>\n",
       "      <td>-0.202585</td>\n",
       "      <td>-0.178282</td>\n",
       "      <td>0.317891</td>\n",
       "    </tr>\n",
       "    <tr>\n",
       "      <th>pMEK_N</th>\n",
       "      <td>-0.125833</td>\n",
       "      <td>-0.036726</td>\n",
       "      <td>0.474147</td>\n",
       "      <td>0.377457</td>\n",
       "      <td>0.260668</td>\n",
       "      <td>0.876138</td>\n",
       "      <td>0.841829</td>\n",
       "      <td>0.496027</td>\n",
       "      <td>0.716401</td>\n",
       "      <td>0.194712</td>\n",
       "      <td>...</td>\n",
       "      <td>0.060689</td>\n",
       "      <td>0.164307</td>\n",
       "      <td>0.137551</td>\n",
       "      <td>0.321143</td>\n",
       "      <td>-0.024556</td>\n",
       "      <td>0.335548</td>\n",
       "      <td>0.273313</td>\n",
       "      <td>0.144616</td>\n",
       "      <td>0.197886</td>\n",
       "      <td>-0.197515</td>\n",
       "    </tr>\n",
       "    <tr>\n",
       "      <th>pNR1_N</th>\n",
       "      <td>0.190575</td>\n",
       "      <td>0.336462</td>\n",
       "      <td>0.754279</td>\n",
       "      <td>0.947872</td>\n",
       "      <td>0.869193</td>\n",
       "      <td>0.217390</td>\n",
       "      <td>0.267261</td>\n",
       "      <td>0.314555</td>\n",
       "      <td>0.543553</td>\n",
       "      <td>0.400312</td>\n",
       "      <td>...</td>\n",
       "      <td>-0.141462</td>\n",
       "      <td>-0.313569</td>\n",
       "      <td>-0.227678</td>\n",
       "      <td>0.333244</td>\n",
       "      <td>-0.275283</td>\n",
       "      <td>0.453750</td>\n",
       "      <td>-0.196177</td>\n",
       "      <td>-0.180681</td>\n",
       "      <td>-0.236141</td>\n",
       "      <td>0.062633</td>\n",
       "    </tr>\n",
       "    <tr>\n",
       "      <th>pNR2A_N</th>\n",
       "      <td>-0.234694</td>\n",
       "      <td>-0.111070</td>\n",
       "      <td>0.359175</td>\n",
       "      <td>0.510043</td>\n",
       "      <td>0.510366</td>\n",
       "      <td>0.345792</td>\n",
       "      <td>0.338934</td>\n",
       "      <td>0.615072</td>\n",
       "      <td>0.491131</td>\n",
       "      <td>0.032280</td>\n",
       "      <td>...</td>\n",
       "      <td>-0.040331</td>\n",
       "      <td>-0.121595</td>\n",
       "      <td>-0.032678</td>\n",
       "      <td>0.570484</td>\n",
       "      <td>-0.071730</td>\n",
       "      <td>0.471350</td>\n",
       "      <td>-0.004583</td>\n",
       "      <td>0.042343</td>\n",
       "      <td>-0.063170</td>\n",
       "      <td>-0.294151</td>\n",
       "    </tr>\n",
       "    <tr>\n",
       "      <th>pNR2B_N</th>\n",
       "      <td>0.194111</td>\n",
       "      <td>0.348099</td>\n",
       "      <td>0.698359</td>\n",
       "      <td>0.895077</td>\n",
       "      <td>0.859699</td>\n",
       "      <td>0.236671</td>\n",
       "      <td>0.253795</td>\n",
       "      <td>0.372675</td>\n",
       "      <td>0.524637</td>\n",
       "      <td>0.410375</td>\n",
       "      <td>...</td>\n",
       "      <td>-0.121686</td>\n",
       "      <td>-0.336334</td>\n",
       "      <td>-0.186988</td>\n",
       "      <td>0.427447</td>\n",
       "      <td>-0.291901</td>\n",
       "      <td>0.508605</td>\n",
       "      <td>-0.246300</td>\n",
       "      <td>-0.184264</td>\n",
       "      <td>-0.267939</td>\n",
       "      <td>0.054872</td>\n",
       "    </tr>\n",
       "    <tr>\n",
       "      <th>pPKCAB_N</th>\n",
       "      <td>0.487781</td>\n",
       "      <td>0.517290</td>\n",
       "      <td>0.568619</td>\n",
       "      <td>0.444054</td>\n",
       "      <td>0.408496</td>\n",
       "      <td>-0.014834</td>\n",
       "      <td>-0.044026</td>\n",
       "      <td>0.107110</td>\n",
       "      <td>0.199281</td>\n",
       "      <td>0.297905</td>\n",
       "      <td>...</td>\n",
       "      <td>-0.134564</td>\n",
       "      <td>-0.115577</td>\n",
       "      <td>-0.274773</td>\n",
       "      <td>-0.324667</td>\n",
       "      <td>-0.291249</td>\n",
       "      <td>0.206179</td>\n",
       "      <td>-0.138969</td>\n",
       "      <td>-0.353690</td>\n",
       "      <td>-0.332389</td>\n",
       "      <td>0.583033</td>\n",
       "    </tr>\n",
       "    <tr>\n",
       "      <th>pRSK_N</th>\n",
       "      <td>0.098242</td>\n",
       "      <td>0.150050</td>\n",
       "      <td>0.341372</td>\n",
       "      <td>0.239082</td>\n",
       "      <td>0.125001</td>\n",
       "      <td>0.560102</td>\n",
       "      <td>0.510807</td>\n",
       "      <td>0.448717</td>\n",
       "      <td>0.461687</td>\n",
       "      <td>0.086468</td>\n",
       "      <td>...</td>\n",
       "      <td>-0.040791</td>\n",
       "      <td>0.120109</td>\n",
       "      <td>-0.110832</td>\n",
       "      <td>-0.073559</td>\n",
       "      <td>-0.151459</td>\n",
       "      <td>0.191602</td>\n",
       "      <td>0.217026</td>\n",
       "      <td>-0.050492</td>\n",
       "      <td>0.057533</td>\n",
       "      <td>0.151377</td>\n",
       "    </tr>\n",
       "    <tr>\n",
       "      <th>AKT_N</th>\n",
       "      <td>0.029194</td>\n",
       "      <td>0.197444</td>\n",
       "      <td>0.608680</td>\n",
       "      <td>0.703446</td>\n",
       "      <td>0.683275</td>\n",
       "      <td>0.428246</td>\n",
       "      <td>0.442418</td>\n",
       "      <td>0.249177</td>\n",
       "      <td>0.549677</td>\n",
       "      <td>0.352265</td>\n",
       "      <td>...</td>\n",
       "      <td>0.018773</td>\n",
       "      <td>-0.182429</td>\n",
       "      <td>-0.070017</td>\n",
       "      <td>0.494143</td>\n",
       "      <td>-0.178546</td>\n",
       "      <td>0.406365</td>\n",
       "      <td>-0.091318</td>\n",
       "      <td>0.006370</td>\n",
       "      <td>-0.095527</td>\n",
       "      <td>-0.104340</td>\n",
       "    </tr>\n",
       "    <tr>\n",
       "      <th>BRAF_N</th>\n",
       "      <td>0.909231</td>\n",
       "      <td>0.840714</td>\n",
       "      <td>0.355143</td>\n",
       "      <td>0.212241</td>\n",
       "      <td>0.212498</td>\n",
       "      <td>-0.009332</td>\n",
       "      <td>0.052549</td>\n",
       "      <td>-0.201936</td>\n",
       "      <td>0.124714</td>\n",
       "      <td>0.707956</td>\n",
       "      <td>...</td>\n",
       "      <td>-0.172640</td>\n",
       "      <td>-0.220380</td>\n",
       "      <td>-0.148340</td>\n",
       "      <td>-0.387970</td>\n",
       "      <td>-0.264191</td>\n",
       "      <td>-0.115173</td>\n",
       "      <td>-0.263463</td>\n",
       "      <td>-0.350259</td>\n",
       "      <td>-0.313435</td>\n",
       "      <td>0.534613</td>\n",
       "    </tr>\n",
       "    <tr>\n",
       "      <th>CAMKII_N</th>\n",
       "      <td>-0.023437</td>\n",
       "      <td>0.044283</td>\n",
       "      <td>0.570094</td>\n",
       "      <td>0.467345</td>\n",
       "      <td>0.369189</td>\n",
       "      <td>0.743416</td>\n",
       "      <td>0.759418</td>\n",
       "      <td>0.312917</td>\n",
       "      <td>0.645023</td>\n",
       "      <td>0.355873</td>\n",
       "      <td>...</td>\n",
       "      <td>0.111011</td>\n",
       "      <td>0.128292</td>\n",
       "      <td>0.227667</td>\n",
       "      <td>0.318438</td>\n",
       "      <td>0.024969</td>\n",
       "      <td>0.333108</td>\n",
       "      <td>0.159297</td>\n",
       "      <td>0.170495</td>\n",
       "      <td>0.177609</td>\n",
       "      <td>-0.113329</td>\n",
       "    </tr>\n",
       "    <tr>\n",
       "      <th>CREB_N</th>\n",
       "      <td>-0.038237</td>\n",
       "      <td>-0.013433</td>\n",
       "      <td>0.425910</td>\n",
       "      <td>0.193995</td>\n",
       "      <td>0.088930</td>\n",
       "      <td>0.735872</td>\n",
       "      <td>0.807087</td>\n",
       "      <td>0.325148</td>\n",
       "      <td>0.581837</td>\n",
       "      <td>0.208142</td>\n",
       "      <td>...</td>\n",
       "      <td>0.101433</td>\n",
       "      <td>0.263662</td>\n",
       "      <td>0.280983</td>\n",
       "      <td>0.159971</td>\n",
       "      <td>0.156580</td>\n",
       "      <td>0.259743</td>\n",
       "      <td>0.329034</td>\n",
       "      <td>0.247408</td>\n",
       "      <td>0.277180</td>\n",
       "      <td>-0.096360</td>\n",
       "    </tr>\n",
       "    <tr>\n",
       "      <th>ELK_N</th>\n",
       "      <td>0.340306</td>\n",
       "      <td>0.518036</td>\n",
       "      <td>0.728958</td>\n",
       "      <td>0.818283</td>\n",
       "      <td>0.782973</td>\n",
       "      <td>0.000550</td>\n",
       "      <td>0.052328</td>\n",
       "      <td>0.150385</td>\n",
       "      <td>0.521767</td>\n",
       "      <td>0.421811</td>\n",
       "      <td>...</td>\n",
       "      <td>-0.133533</td>\n",
       "      <td>-0.382720</td>\n",
       "      <td>-0.294929</td>\n",
       "      <td>0.251720</td>\n",
       "      <td>-0.338515</td>\n",
       "      <td>0.468104</td>\n",
       "      <td>-0.191267</td>\n",
       "      <td>-0.314015</td>\n",
       "      <td>-0.314354</td>\n",
       "      <td>0.245124</td>\n",
       "    </tr>\n",
       "    <tr>\n",
       "      <th>ERK_N</th>\n",
       "      <td>0.459018</td>\n",
       "      <td>0.597691</td>\n",
       "      <td>0.736148</td>\n",
       "      <td>0.807475</td>\n",
       "      <td>0.850727</td>\n",
       "      <td>-0.019754</td>\n",
       "      <td>-0.013989</td>\n",
       "      <td>0.013557</td>\n",
       "      <td>0.406422</td>\n",
       "      <td>0.483190</td>\n",
       "      <td>...</td>\n",
       "      <td>-0.244561</td>\n",
       "      <td>-0.443368</td>\n",
       "      <td>-0.299609</td>\n",
       "      <td>0.147770</td>\n",
       "      <td>-0.474084</td>\n",
       "      <td>0.463873</td>\n",
       "      <td>-0.334271</td>\n",
       "      <td>-0.400558</td>\n",
       "      <td>-0.446420</td>\n",
       "      <td>0.442512</td>\n",
       "    </tr>\n",
       "    <tr>\n",
       "      <th>GSK3B_N</th>\n",
       "      <td>0.712573</td>\n",
       "      <td>0.818211</td>\n",
       "      <td>0.670463</td>\n",
       "      <td>0.670692</td>\n",
       "      <td>0.650874</td>\n",
       "      <td>-0.014784</td>\n",
       "      <td>0.029160</td>\n",
       "      <td>-0.009688</td>\n",
       "      <td>0.280475</td>\n",
       "      <td>0.688165</td>\n",
       "      <td>...</td>\n",
       "      <td>-0.248969</td>\n",
       "      <td>-0.356496</td>\n",
       "      <td>-0.340168</td>\n",
       "      <td>-0.215067</td>\n",
       "      <td>-0.429998</td>\n",
       "      <td>0.209500</td>\n",
       "      <td>-0.301740</td>\n",
       "      <td>-0.435558</td>\n",
       "      <td>-0.442435</td>\n",
       "      <td>0.579284</td>\n",
       "    </tr>\n",
       "    <tr>\n",
       "      <th>JNK_N</th>\n",
       "      <td>0.188578</td>\n",
       "      <td>0.257729</td>\n",
       "      <td>0.632191</td>\n",
       "      <td>0.532911</td>\n",
       "      <td>0.433588</td>\n",
       "      <td>0.711441</td>\n",
       "      <td>0.764232</td>\n",
       "      <td>0.260097</td>\n",
       "      <td>0.630664</td>\n",
       "      <td>0.391981</td>\n",
       "      <td>...</td>\n",
       "      <td>0.005349</td>\n",
       "      <td>0.072915</td>\n",
       "      <td>0.072083</td>\n",
       "      <td>0.114923</td>\n",
       "      <td>-0.135579</td>\n",
       "      <td>0.358614</td>\n",
       "      <td>0.099639</td>\n",
       "      <td>0.005502</td>\n",
       "      <td>0.023094</td>\n",
       "      <td>0.168970</td>\n",
       "    </tr>\n",
       "    <tr>\n",
       "      <th>MEK_N</th>\n",
       "      <td>0.172475</td>\n",
       "      <td>0.328805</td>\n",
       "      <td>0.766508</td>\n",
       "      <td>0.694457</td>\n",
       "      <td>0.578388</td>\n",
       "      <td>0.587349</td>\n",
       "      <td>0.610876</td>\n",
       "      <td>0.349021</td>\n",
       "      <td>0.746748</td>\n",
       "      <td>0.386280</td>\n",
       "      <td>...</td>\n",
       "      <td>0.020188</td>\n",
       "      <td>-0.048222</td>\n",
       "      <td>-0.053712</td>\n",
       "      <td>0.257188</td>\n",
       "      <td>-0.197887</td>\n",
       "      <td>0.510864</td>\n",
       "      <td>0.048573</td>\n",
       "      <td>-0.059419</td>\n",
       "      <td>-0.069182</td>\n",
       "      <td>0.160596</td>\n",
       "    </tr>\n",
       "    <tr>\n",
       "      <th>TRKA_N</th>\n",
       "      <td>0.353350</td>\n",
       "      <td>0.517520</td>\n",
       "      <td>0.800254</td>\n",
       "      <td>0.856851</td>\n",
       "      <td>0.759242</td>\n",
       "      <td>0.355142</td>\n",
       "      <td>0.334092</td>\n",
       "      <td>0.295623</td>\n",
       "      <td>0.668495</td>\n",
       "      <td>0.427288</td>\n",
       "      <td>...</td>\n",
       "      <td>-0.107882</td>\n",
       "      <td>-0.276324</td>\n",
       "      <td>-0.252812</td>\n",
       "      <td>0.208477</td>\n",
       "      <td>-0.429938</td>\n",
       "      <td>0.515574</td>\n",
       "      <td>-0.096762</td>\n",
       "      <td>-0.327187</td>\n",
       "      <td>-0.273464</td>\n",
       "      <td>0.382005</td>\n",
       "    </tr>\n",
       "    <tr>\n",
       "      <th>RSK_N</th>\n",
       "      <td>-0.055927</td>\n",
       "      <td>-0.022791</td>\n",
       "      <td>0.390159</td>\n",
       "      <td>0.255331</td>\n",
       "      <td>0.061744</td>\n",
       "      <td>0.777848</td>\n",
       "      <td>0.778551</td>\n",
       "      <td>0.224062</td>\n",
       "      <td>0.650210</td>\n",
       "      <td>0.243046</td>\n",
       "      <td>...</td>\n",
       "      <td>0.079930</td>\n",
       "      <td>0.206231</td>\n",
       "      <td>0.187967</td>\n",
       "      <td>0.113971</td>\n",
       "      <td>0.019365</td>\n",
       "      <td>0.216871</td>\n",
       "      <td>0.275252</td>\n",
       "      <td>0.148288</td>\n",
       "      <td>0.233693</td>\n",
       "      <td>-0.034543</td>\n",
       "    </tr>\n",
       "    <tr>\n",
       "      <th>...</th>\n",
       "      <td>...</td>\n",
       "      <td>...</td>\n",
       "      <td>...</td>\n",
       "      <td>...</td>\n",
       "      <td>...</td>\n",
       "      <td>...</td>\n",
       "      <td>...</td>\n",
       "      <td>...</td>\n",
       "      <td>...</td>\n",
       "      <td>...</td>\n",
       "      <td>...</td>\n",
       "      <td>...</td>\n",
       "      <td>...</td>\n",
       "      <td>...</td>\n",
       "      <td>...</td>\n",
       "      <td>...</td>\n",
       "      <td>...</td>\n",
       "      <td>...</td>\n",
       "      <td>...</td>\n",
       "      <td>...</td>\n",
       "      <td>...</td>\n",
       "    </tr>\n",
       "    <tr>\n",
       "      <th>CDK5_N</th>\n",
       "      <td>0.262185</td>\n",
       "      <td>0.373687</td>\n",
       "      <td>0.407107</td>\n",
       "      <td>0.376554</td>\n",
       "      <td>0.352904</td>\n",
       "      <td>0.055327</td>\n",
       "      <td>0.039739</td>\n",
       "      <td>-0.029362</td>\n",
       "      <td>0.289121</td>\n",
       "      <td>0.122037</td>\n",
       "      <td>...</td>\n",
       "      <td>-0.011779</td>\n",
       "      <td>-0.061380</td>\n",
       "      <td>-0.058840</td>\n",
       "      <td>0.089432</td>\n",
       "      <td>-0.222192</td>\n",
       "      <td>0.491987</td>\n",
       "      <td>-0.064213</td>\n",
       "      <td>-0.150080</td>\n",
       "      <td>-0.144886</td>\n",
       "      <td>0.590579</td>\n",
       "    </tr>\n",
       "    <tr>\n",
       "      <th>S6_N</th>\n",
       "      <td>0.394480</td>\n",
       "      <td>0.456054</td>\n",
       "      <td>0.107502</td>\n",
       "      <td>0.098275</td>\n",
       "      <td>0.071380</td>\n",
       "      <td>-0.151383</td>\n",
       "      <td>-0.219225</td>\n",
       "      <td>-0.127666</td>\n",
       "      <td>0.178180</td>\n",
       "      <td>0.033677</td>\n",
       "      <td>...</td>\n",
       "      <td>0.010791</td>\n",
       "      <td>-0.101678</td>\n",
       "      <td>-0.212108</td>\n",
       "      <td>-0.137035</td>\n",
       "      <td>-0.296473</td>\n",
       "      <td>0.034249</td>\n",
       "      <td>0.174335</td>\n",
       "      <td>-0.269596</td>\n",
       "      <td>-0.051837</td>\n",
       "      <td>0.495317</td>\n",
       "    </tr>\n",
       "    <tr>\n",
       "      <th>ADARB1_N</th>\n",
       "      <td>0.209928</td>\n",
       "      <td>0.292036</td>\n",
       "      <td>0.593530</td>\n",
       "      <td>0.574490</td>\n",
       "      <td>0.674846</td>\n",
       "      <td>0.067614</td>\n",
       "      <td>0.022082</td>\n",
       "      <td>0.193321</td>\n",
       "      <td>0.217488</td>\n",
       "      <td>0.215953</td>\n",
       "      <td>...</td>\n",
       "      <td>-0.082443</td>\n",
       "      <td>-0.240129</td>\n",
       "      <td>-0.237475</td>\n",
       "      <td>0.287204</td>\n",
       "      <td>-0.264800</td>\n",
       "      <td>0.439833</td>\n",
       "      <td>-0.185997</td>\n",
       "      <td>-0.230010</td>\n",
       "      <td>-0.307464</td>\n",
       "      <td>0.206100</td>\n",
       "    </tr>\n",
       "    <tr>\n",
       "      <th>AcetylH3K9_N</th>\n",
       "      <td>-0.061148</td>\n",
       "      <td>-0.022537</td>\n",
       "      <td>0.037786</td>\n",
       "      <td>-0.123433</td>\n",
       "      <td>-0.131683</td>\n",
       "      <td>0.049657</td>\n",
       "      <td>-0.010452</td>\n",
       "      <td>0.215524</td>\n",
       "      <td>0.124916</td>\n",
       "      <td>-0.201819</td>\n",
       "      <td>...</td>\n",
       "      <td>0.057342</td>\n",
       "      <td>0.205412</td>\n",
       "      <td>-0.013232</td>\n",
       "      <td>-0.086446</td>\n",
       "      <td>-0.015684</td>\n",
       "      <td>-0.058926</td>\n",
       "      <td>0.605106</td>\n",
       "      <td>-0.047091</td>\n",
       "      <td>0.329448</td>\n",
       "      <td>-0.042659</td>\n",
       "    </tr>\n",
       "    <tr>\n",
       "      <th>RRP1_N</th>\n",
       "      <td>-0.094655</td>\n",
       "      <td>-0.127301</td>\n",
       "      <td>0.018995</td>\n",
       "      <td>-0.151141</td>\n",
       "      <td>-0.124900</td>\n",
       "      <td>0.177645</td>\n",
       "      <td>0.202885</td>\n",
       "      <td>-0.053618</td>\n",
       "      <td>0.050421</td>\n",
       "      <td>0.036880</td>\n",
       "      <td>...</td>\n",
       "      <td>0.087476</td>\n",
       "      <td>0.370650</td>\n",
       "      <td>0.417789</td>\n",
       "      <td>-0.010531</td>\n",
       "      <td>0.369656</td>\n",
       "      <td>0.010347</td>\n",
       "      <td>0.378909</td>\n",
       "      <td>0.225708</td>\n",
       "      <td>0.428052</td>\n",
       "      <td>-0.144476</td>\n",
       "    </tr>\n",
       "    <tr>\n",
       "      <th>BAX_N</th>\n",
       "      <td>0.113728</td>\n",
       "      <td>0.270936</td>\n",
       "      <td>0.407293</td>\n",
       "      <td>0.482910</td>\n",
       "      <td>0.557244</td>\n",
       "      <td>-0.031377</td>\n",
       "      <td>-0.038270</td>\n",
       "      <td>0.156161</td>\n",
       "      <td>0.249283</td>\n",
       "      <td>0.164873</td>\n",
       "      <td>...</td>\n",
       "      <td>-0.131260</td>\n",
       "      <td>-0.206238</td>\n",
       "      <td>-0.125536</td>\n",
       "      <td>0.287792</td>\n",
       "      <td>-0.229634</td>\n",
       "      <td>0.402275</td>\n",
       "      <td>-0.018940</td>\n",
       "      <td>-0.215423</td>\n",
       "      <td>-0.132981</td>\n",
       "      <td>0.251173</td>\n",
       "    </tr>\n",
       "    <tr>\n",
       "      <th>ARC_N</th>\n",
       "      <td>-0.385758</td>\n",
       "      <td>-0.264132</td>\n",
       "      <td>0.127703</td>\n",
       "      <td>0.264181</td>\n",
       "      <td>0.263526</td>\n",
       "      <td>0.301811</td>\n",
       "      <td>0.258775</td>\n",
       "      <td>0.392956</td>\n",
       "      <td>0.302119</td>\n",
       "      <td>-0.153887</td>\n",
       "      <td>...</td>\n",
       "      <td>0.328273</td>\n",
       "      <td>-0.024163</td>\n",
       "      <td>0.099115</td>\n",
       "      <td>1.000000</td>\n",
       "      <td>0.081668</td>\n",
       "      <td>0.423289</td>\n",
       "      <td>0.097625</td>\n",
       "      <td>0.205190</td>\n",
       "      <td>0.170678</td>\n",
       "      <td>-0.344327</td>\n",
       "    </tr>\n",
       "    <tr>\n",
       "      <th>ERBB4_N</th>\n",
       "      <td>-0.240245</td>\n",
       "      <td>-0.093370</td>\n",
       "      <td>0.202806</td>\n",
       "      <td>0.266332</td>\n",
       "      <td>0.212039</td>\n",
       "      <td>0.288594</td>\n",
       "      <td>0.204554</td>\n",
       "      <td>0.240443</td>\n",
       "      <td>0.356061</td>\n",
       "      <td>-0.158949</td>\n",
       "      <td>...</td>\n",
       "      <td>0.327084</td>\n",
       "      <td>-0.008453</td>\n",
       "      <td>0.017034</td>\n",
       "      <td>0.709019</td>\n",
       "      <td>0.005076</td>\n",
       "      <td>0.540401</td>\n",
       "      <td>0.179627</td>\n",
       "      <td>0.156546</td>\n",
       "      <td>0.176197</td>\n",
       "      <td>0.024355</td>\n",
       "    </tr>\n",
       "    <tr>\n",
       "      <th>nNOS_N</th>\n",
       "      <td>-0.063717</td>\n",
       "      <td>0.077481</td>\n",
       "      <td>0.182694</td>\n",
       "      <td>0.398612</td>\n",
       "      <td>0.308612</td>\n",
       "      <td>0.107211</td>\n",
       "      <td>0.085075</td>\n",
       "      <td>0.327051</td>\n",
       "      <td>0.341352</td>\n",
       "      <td>-0.078162</td>\n",
       "      <td>...</td>\n",
       "      <td>0.199795</td>\n",
       "      <td>-0.149837</td>\n",
       "      <td>-0.185158</td>\n",
       "      <td>0.593161</td>\n",
       "      <td>-0.147761</td>\n",
       "      <td>0.349815</td>\n",
       "      <td>0.013066</td>\n",
       "      <td>-0.080631</td>\n",
       "      <td>-0.058136</td>\n",
       "      <td>-0.020073</td>\n",
       "    </tr>\n",
       "    <tr>\n",
       "      <th>Tau_N</th>\n",
       "      <td>-0.025217</td>\n",
       "      <td>0.086125</td>\n",
       "      <td>0.007952</td>\n",
       "      <td>-0.034449</td>\n",
       "      <td>-0.060835</td>\n",
       "      <td>-0.006871</td>\n",
       "      <td>-0.031708</td>\n",
       "      <td>-0.025405</td>\n",
       "      <td>0.137388</td>\n",
       "      <td>-0.050098</td>\n",
       "      <td>...</td>\n",
       "      <td>0.105856</td>\n",
       "      <td>0.019379</td>\n",
       "      <td>-0.057314</td>\n",
       "      <td>0.203163</td>\n",
       "      <td>-0.039286</td>\n",
       "      <td>-0.010648</td>\n",
       "      <td>0.496368</td>\n",
       "      <td>-0.017596</td>\n",
       "      <td>0.424126</td>\n",
       "      <td>-0.023516</td>\n",
       "    </tr>\n",
       "    <tr>\n",
       "      <th>GFAP_N</th>\n",
       "      <td>0.046232</td>\n",
       "      <td>-0.005386</td>\n",
       "      <td>0.062668</td>\n",
       "      <td>-0.140452</td>\n",
       "      <td>-0.085818</td>\n",
       "      <td>0.081060</td>\n",
       "      <td>0.125593</td>\n",
       "      <td>-0.212104</td>\n",
       "      <td>0.007876</td>\n",
       "      <td>0.057528</td>\n",
       "      <td>...</td>\n",
       "      <td>0.145950</td>\n",
       "      <td>0.339736</td>\n",
       "      <td>0.382096</td>\n",
       "      <td>-0.042435</td>\n",
       "      <td>0.334523</td>\n",
       "      <td>0.118309</td>\n",
       "      <td>0.289906</td>\n",
       "      <td>0.207607</td>\n",
       "      <td>0.386601</td>\n",
       "      <td>0.125023</td>\n",
       "    </tr>\n",
       "    <tr>\n",
       "      <th>GluR3_N</th>\n",
       "      <td>-0.031800</td>\n",
       "      <td>-0.024258</td>\n",
       "      <td>-0.031828</td>\n",
       "      <td>0.153647</td>\n",
       "      <td>0.149945</td>\n",
       "      <td>-0.310788</td>\n",
       "      <td>-0.220523</td>\n",
       "      <td>0.082639</td>\n",
       "      <td>-0.101101</td>\n",
       "      <td>-0.122014</td>\n",
       "      <td>...</td>\n",
       "      <td>0.046429</td>\n",
       "      <td>-0.044384</td>\n",
       "      <td>-0.057540</td>\n",
       "      <td>0.213598</td>\n",
       "      <td>0.109757</td>\n",
       "      <td>0.262091</td>\n",
       "      <td>-0.214976</td>\n",
       "      <td>0.120691</td>\n",
       "      <td>-0.109249</td>\n",
       "      <td>0.081326</td>\n",
       "    </tr>\n",
       "    <tr>\n",
       "      <th>GluR4_N</th>\n",
       "      <td>-0.009162</td>\n",
       "      <td>0.053563</td>\n",
       "      <td>0.168193</td>\n",
       "      <td>0.224276</td>\n",
       "      <td>0.239858</td>\n",
       "      <td>-0.157372</td>\n",
       "      <td>-0.120615</td>\n",
       "      <td>0.157184</td>\n",
       "      <td>0.091290</td>\n",
       "      <td>-0.058674</td>\n",
       "      <td>...</td>\n",
       "      <td>0.025299</td>\n",
       "      <td>0.065961</td>\n",
       "      <td>-0.002640</td>\n",
       "      <td>0.230731</td>\n",
       "      <td>0.030219</td>\n",
       "      <td>0.322700</td>\n",
       "      <td>-0.012466</td>\n",
       "      <td>0.082466</td>\n",
       "      <td>0.009563</td>\n",
       "      <td>0.039744</td>\n",
       "    </tr>\n",
       "    <tr>\n",
       "      <th>IL1B_N</th>\n",
       "      <td>-0.475472</td>\n",
       "      <td>-0.419997</td>\n",
       "      <td>-0.264937</td>\n",
       "      <td>-0.200467</td>\n",
       "      <td>-0.262646</td>\n",
       "      <td>0.153767</td>\n",
       "      <td>0.141944</td>\n",
       "      <td>0.119587</td>\n",
       "      <td>0.047435</td>\n",
       "      <td>-0.381705</td>\n",
       "      <td>...</td>\n",
       "      <td>0.516356</td>\n",
       "      <td>0.190156</td>\n",
       "      <td>0.217177</td>\n",
       "      <td>0.624321</td>\n",
       "      <td>0.367843</td>\n",
       "      <td>0.281466</td>\n",
       "      <td>0.241558</td>\n",
       "      <td>0.427034</td>\n",
       "      <td>0.310311</td>\n",
       "      <td>-0.206337</td>\n",
       "    </tr>\n",
       "    <tr>\n",
       "      <th>P3525_N</th>\n",
       "      <td>-0.111968</td>\n",
       "      <td>-0.031813</td>\n",
       "      <td>0.206146</td>\n",
       "      <td>0.122002</td>\n",
       "      <td>0.017085</td>\n",
       "      <td>0.166046</td>\n",
       "      <td>0.082865</td>\n",
       "      <td>0.069848</td>\n",
       "      <td>0.253598</td>\n",
       "      <td>-0.200533</td>\n",
       "      <td>...</td>\n",
       "      <td>0.468320</td>\n",
       "      <td>0.236564</td>\n",
       "      <td>0.097087</td>\n",
       "      <td>0.306981</td>\n",
       "      <td>0.145412</td>\n",
       "      <td>0.374732</td>\n",
       "      <td>0.357341</td>\n",
       "      <td>0.095789</td>\n",
       "      <td>0.164760</td>\n",
       "      <td>0.198036</td>\n",
       "    </tr>\n",
       "    <tr>\n",
       "      <th>pCASP9_N</th>\n",
       "      <td>-0.173961</td>\n",
       "      <td>-0.057316</td>\n",
       "      <td>0.056650</td>\n",
       "      <td>0.173310</td>\n",
       "      <td>0.139978</td>\n",
       "      <td>0.109505</td>\n",
       "      <td>0.076129</td>\n",
       "      <td>0.245935</td>\n",
       "      <td>0.271792</td>\n",
       "      <td>-0.193872</td>\n",
       "      <td>...</td>\n",
       "      <td>0.134556</td>\n",
       "      <td>-0.061816</td>\n",
       "      <td>-0.071560</td>\n",
       "      <td>0.498698</td>\n",
       "      <td>0.084159</td>\n",
       "      <td>0.515466</td>\n",
       "      <td>-0.000596</td>\n",
       "      <td>0.055927</td>\n",
       "      <td>-0.065878</td>\n",
       "      <td>0.096780</td>\n",
       "    </tr>\n",
       "    <tr>\n",
       "      <th>PSD95_N</th>\n",
       "      <td>-0.191064</td>\n",
       "      <td>-0.054495</td>\n",
       "      <td>0.043637</td>\n",
       "      <td>0.312445</td>\n",
       "      <td>0.181602</td>\n",
       "      <td>0.208758</td>\n",
       "      <td>0.162195</td>\n",
       "      <td>0.328554</td>\n",
       "      <td>0.395502</td>\n",
       "      <td>-0.117964</td>\n",
       "      <td>...</td>\n",
       "      <td>0.190442</td>\n",
       "      <td>-0.118834</td>\n",
       "      <td>-0.090247</td>\n",
       "      <td>0.591057</td>\n",
       "      <td>-0.084191</td>\n",
       "      <td>0.448797</td>\n",
       "      <td>0.056452</td>\n",
       "      <td>0.017304</td>\n",
       "      <td>0.001015</td>\n",
       "      <td>0.084420</td>\n",
       "    </tr>\n",
       "    <tr>\n",
       "      <th>SNCA_N</th>\n",
       "      <td>-0.532242</td>\n",
       "      <td>-0.524592</td>\n",
       "      <td>-0.182768</td>\n",
       "      <td>-0.232277</td>\n",
       "      <td>-0.286551</td>\n",
       "      <td>0.361011</td>\n",
       "      <td>0.364004</td>\n",
       "      <td>0.139908</td>\n",
       "      <td>0.082502</td>\n",
       "      <td>-0.248485</td>\n",
       "      <td>...</td>\n",
       "      <td>0.475865</td>\n",
       "      <td>0.436347</td>\n",
       "      <td>0.497329</td>\n",
       "      <td>0.545939</td>\n",
       "      <td>0.572307</td>\n",
       "      <td>0.159102</td>\n",
       "      <td>0.306092</td>\n",
       "      <td>0.590126</td>\n",
       "      <td>0.477009</td>\n",
       "      <td>-0.520543</td>\n",
       "    </tr>\n",
       "    <tr>\n",
       "      <th>Ubiquitin_N</th>\n",
       "      <td>-0.484676</td>\n",
       "      <td>-0.387936</td>\n",
       "      <td>0.051538</td>\n",
       "      <td>0.106177</td>\n",
       "      <td>0.040598</td>\n",
       "      <td>0.611483</td>\n",
       "      <td>0.516054</td>\n",
       "      <td>0.599811</td>\n",
       "      <td>0.438512</td>\n",
       "      <td>-0.231873</td>\n",
       "      <td>...</td>\n",
       "      <td>0.286422</td>\n",
       "      <td>0.228977</td>\n",
       "      <td>0.239594</td>\n",
       "      <td>0.666575</td>\n",
       "      <td>0.181457</td>\n",
       "      <td>0.425996</td>\n",
       "      <td>0.370178</td>\n",
       "      <td>0.285491</td>\n",
       "      <td>0.293410</td>\n",
       "      <td>-0.409231</td>\n",
       "    </tr>\n",
       "    <tr>\n",
       "      <th>pGSK3B_Tyr216_N</th>\n",
       "      <td>0.261710</td>\n",
       "      <td>0.367572</td>\n",
       "      <td>0.183629</td>\n",
       "      <td>0.202998</td>\n",
       "      <td>0.081391</td>\n",
       "      <td>-0.004898</td>\n",
       "      <td>-0.028703</td>\n",
       "      <td>0.069477</td>\n",
       "      <td>0.158654</td>\n",
       "      <td>0.088490</td>\n",
       "      <td>...</td>\n",
       "      <td>0.311384</td>\n",
       "      <td>-0.026537</td>\n",
       "      <td>-0.200075</td>\n",
       "      <td>0.077993</td>\n",
       "      <td>-0.003936</td>\n",
       "      <td>0.351986</td>\n",
       "      <td>-0.025844</td>\n",
       "      <td>-0.097983</td>\n",
       "      <td>-0.183040</td>\n",
       "      <td>0.512885</td>\n",
       "    </tr>\n",
       "    <tr>\n",
       "      <th>SHH_N</th>\n",
       "      <td>-0.233295</td>\n",
       "      <td>-0.224595</td>\n",
       "      <td>-0.080776</td>\n",
       "      <td>-0.141423</td>\n",
       "      <td>-0.259197</td>\n",
       "      <td>0.144670</td>\n",
       "      <td>0.134769</td>\n",
       "      <td>0.045975</td>\n",
       "      <td>0.065719</td>\n",
       "      <td>-0.236353</td>\n",
       "      <td>...</td>\n",
       "      <td>1.000000</td>\n",
       "      <td>0.300840</td>\n",
       "      <td>0.235341</td>\n",
       "      <td>0.328273</td>\n",
       "      <td>0.494085</td>\n",
       "      <td>0.055767</td>\n",
       "      <td>0.267580</td>\n",
       "      <td>0.326794</td>\n",
       "      <td>0.274783</td>\n",
       "      <td>-0.122415</td>\n",
       "    </tr>\n",
       "    <tr>\n",
       "      <th>BAD_N</th>\n",
       "      <td>-0.313693</td>\n",
       "      <td>-0.392302</td>\n",
       "      <td>-0.174017</td>\n",
       "      <td>-0.341432</td>\n",
       "      <td>-0.398054</td>\n",
       "      <td>0.270664</td>\n",
       "      <td>0.271600</td>\n",
       "      <td>0.068730</td>\n",
       "      <td>-0.055512</td>\n",
       "      <td>-0.231700</td>\n",
       "      <td>...</td>\n",
       "      <td>0.300840</td>\n",
       "      <td>1.000000</td>\n",
       "      <td>0.596001</td>\n",
       "      <td>-0.024163</td>\n",
       "      <td>0.493322</td>\n",
       "      <td>0.045126</td>\n",
       "      <td>0.469740</td>\n",
       "      <td>0.636121</td>\n",
       "      <td>0.614039</td>\n",
       "      <td>-0.243155</td>\n",
       "    </tr>\n",
       "    <tr>\n",
       "      <th>BCL2_N</th>\n",
       "      <td>-0.229677</td>\n",
       "      <td>-0.310137</td>\n",
       "      <td>-0.132020</td>\n",
       "      <td>-0.290608</td>\n",
       "      <td>-0.260422</td>\n",
       "      <td>0.229064</td>\n",
       "      <td>0.262730</td>\n",
       "      <td>0.009709</td>\n",
       "      <td>-0.093464</td>\n",
       "      <td>-0.080293</td>\n",
       "      <td>...</td>\n",
       "      <td>0.235341</td>\n",
       "      <td>0.596001</td>\n",
       "      <td>1.000000</td>\n",
       "      <td>0.099115</td>\n",
       "      <td>0.477897</td>\n",
       "      <td>0.038032</td>\n",
       "      <td>0.310787</td>\n",
       "      <td>0.544002</td>\n",
       "      <td>0.493769</td>\n",
       "      <td>-0.251598</td>\n",
       "    </tr>\n",
       "    <tr>\n",
       "      <th>pS6_N</th>\n",
       "      <td>-0.385758</td>\n",
       "      <td>-0.264132</td>\n",
       "      <td>0.127703</td>\n",
       "      <td>0.264181</td>\n",
       "      <td>0.263526</td>\n",
       "      <td>0.301811</td>\n",
       "      <td>0.258775</td>\n",
       "      <td>0.392956</td>\n",
       "      <td>0.302119</td>\n",
       "      <td>-0.153887</td>\n",
       "      <td>...</td>\n",
       "      <td>0.328273</td>\n",
       "      <td>-0.024163</td>\n",
       "      <td>0.099115</td>\n",
       "      <td>1.000000</td>\n",
       "      <td>0.081668</td>\n",
       "      <td>0.423289</td>\n",
       "      <td>0.097625</td>\n",
       "      <td>0.205190</td>\n",
       "      <td>0.170678</td>\n",
       "      <td>-0.344327</td>\n",
       "    </tr>\n",
       "    <tr>\n",
       "      <th>pCFOS_N</th>\n",
       "      <td>-0.324606</td>\n",
       "      <td>-0.396433</td>\n",
       "      <td>-0.249404</td>\n",
       "      <td>-0.364932</td>\n",
       "      <td>-0.415719</td>\n",
       "      <td>0.047835</td>\n",
       "      <td>0.145095</td>\n",
       "      <td>-0.052649</td>\n",
       "      <td>-0.171975</td>\n",
       "      <td>-0.220301</td>\n",
       "      <td>...</td>\n",
       "      <td>0.494085</td>\n",
       "      <td>0.493322</td>\n",
       "      <td>0.477897</td>\n",
       "      <td>0.081668</td>\n",
       "      <td>1.000000</td>\n",
       "      <td>-0.033400</td>\n",
       "      <td>0.275964</td>\n",
       "      <td>0.535964</td>\n",
       "      <td>0.418519</td>\n",
       "      <td>-0.299460</td>\n",
       "    </tr>\n",
       "    <tr>\n",
       "      <th>SYP_N</th>\n",
       "      <td>-0.096660</td>\n",
       "      <td>0.030729</td>\n",
       "      <td>0.450433</td>\n",
       "      <td>0.473366</td>\n",
       "      <td>0.401290</td>\n",
       "      <td>0.249901</td>\n",
       "      <td>0.284492</td>\n",
       "      <td>0.248475</td>\n",
       "      <td>0.413060</td>\n",
       "      <td>0.040956</td>\n",
       "      <td>...</td>\n",
       "      <td>0.055767</td>\n",
       "      <td>0.045126</td>\n",
       "      <td>0.038032</td>\n",
       "      <td>0.423289</td>\n",
       "      <td>-0.033400</td>\n",
       "      <td>1.000000</td>\n",
       "      <td>0.011713</td>\n",
       "      <td>0.093849</td>\n",
       "      <td>-0.030256</td>\n",
       "      <td>0.246653</td>\n",
       "    </tr>\n",
       "    <tr>\n",
       "      <th>H3AcK18_N</th>\n",
       "      <td>-0.363787</td>\n",
       "      <td>-0.322935</td>\n",
       "      <td>-0.119196</td>\n",
       "      <td>-0.225549</td>\n",
       "      <td>-0.302659</td>\n",
       "      <td>0.326479</td>\n",
       "      <td>0.284534</td>\n",
       "      <td>0.200028</td>\n",
       "      <td>0.217359</td>\n",
       "      <td>-0.249955</td>\n",
       "      <td>...</td>\n",
       "      <td>0.267580</td>\n",
       "      <td>0.469740</td>\n",
       "      <td>0.310787</td>\n",
       "      <td>0.097625</td>\n",
       "      <td>0.275964</td>\n",
       "      <td>0.011713</td>\n",
       "      <td>1.000000</td>\n",
       "      <td>0.287723</td>\n",
       "      <td>0.592655</td>\n",
       "      <td>-0.225460</td>\n",
       "    </tr>\n",
       "    <tr>\n",
       "      <th>EGR1_N</th>\n",
       "      <td>-0.426834</td>\n",
       "      <td>-0.475570</td>\n",
       "      <td>-0.221713</td>\n",
       "      <td>-0.279915</td>\n",
       "      <td>-0.310935</td>\n",
       "      <td>0.242565</td>\n",
       "      <td>0.287975</td>\n",
       "      <td>0.075171</td>\n",
       "      <td>-0.109569</td>\n",
       "      <td>-0.241959</td>\n",
       "      <td>...</td>\n",
       "      <td>0.326794</td>\n",
       "      <td>0.636121</td>\n",
       "      <td>0.544002</td>\n",
       "      <td>0.205190</td>\n",
       "      <td>0.535964</td>\n",
       "      <td>0.093849</td>\n",
       "      <td>0.287723</td>\n",
       "      <td>1.000000</td>\n",
       "      <td>0.523366</td>\n",
       "      <td>-0.399805</td>\n",
       "    </tr>\n",
       "    <tr>\n",
       "      <th>H3MeK4_N</th>\n",
       "      <td>-0.412101</td>\n",
       "      <td>-0.432018</td>\n",
       "      <td>-0.221859</td>\n",
       "      <td>-0.305798</td>\n",
       "      <td>-0.386468</td>\n",
       "      <td>0.286856</td>\n",
       "      <td>0.300328</td>\n",
       "      <td>0.063827</td>\n",
       "      <td>0.027473</td>\n",
       "      <td>-0.261017</td>\n",
       "      <td>...</td>\n",
       "      <td>0.274783</td>\n",
       "      <td>0.614039</td>\n",
       "      <td>0.493769</td>\n",
       "      <td>0.170678</td>\n",
       "      <td>0.418519</td>\n",
       "      <td>-0.030256</td>\n",
       "      <td>0.592655</td>\n",
       "      <td>0.523366</td>\n",
       "      <td>1.000000</td>\n",
       "      <td>-0.361742</td>\n",
       "    </tr>\n",
       "    <tr>\n",
       "      <th>CaNA_N</th>\n",
       "      <td>0.561693</td>\n",
       "      <td>0.584472</td>\n",
       "      <td>0.262578</td>\n",
       "      <td>0.205463</td>\n",
       "      <td>0.187760</td>\n",
       "      <td>-0.239543</td>\n",
       "      <td>-0.213691</td>\n",
       "      <td>-0.376370</td>\n",
       "      <td>0.039517</td>\n",
       "      <td>0.253765</td>\n",
       "      <td>...</td>\n",
       "      <td>-0.122415</td>\n",
       "      <td>-0.243155</td>\n",
       "      <td>-0.251598</td>\n",
       "      <td>-0.344327</td>\n",
       "      <td>-0.299460</td>\n",
       "      <td>0.246653</td>\n",
       "      <td>-0.225460</td>\n",
       "      <td>-0.399805</td>\n",
       "      <td>-0.361742</td>\n",
       "      <td>1.000000</td>\n",
       "    </tr>\n",
       "  </tbody>\n",
       "</table>\n",
       "<p>77 rows × 77 columns</p>\n",
       "</div>"
      ],
      "text/plain": [
       "                 DYRK1A_N   ITSN1_N    BDNF_N     NR1_N    NR2A_N    pAKT_N  \\\n",
       "DYRK1A_N         1.000000  0.926275  0.389031  0.299626  0.336227 -0.203607   \n",
       "ITSN1_N          0.926275  1.000000  0.495427  0.457687  0.455101 -0.155195   \n",
       "BDNF_N           0.389031  0.495427  1.000000  0.805784  0.749927  0.319493   \n",
       "NR1_N            0.299626  0.457687  0.805784  1.000000  0.873810  0.212995   \n",
       "NR2A_N           0.336227  0.455101  0.749927  0.873810  1.000000  0.111719   \n",
       "pAKT_N          -0.203607 -0.155195  0.319493  0.212995  0.111719  1.000000   \n",
       "pBRAF_N         -0.132712 -0.102318  0.390530  0.244224  0.110929  0.828465   \n",
       "pCAMKII_N       -0.208707 -0.137693  0.241885  0.297296  0.275279  0.461656   \n",
       "pCREB_N          0.050257  0.211497  0.603857  0.597443  0.392849  0.598918   \n",
       "pELK_N           0.677330  0.717790  0.514643  0.467155  0.462741  0.082270   \n",
       "pERK_N           0.923623  0.838714  0.372571  0.262149  0.336107 -0.203603   \n",
       "pJNK_N          -0.128983 -0.029108  0.464904  0.444001  0.391679  0.782072   \n",
       "PKCA_N           0.355916  0.400288  0.770690  0.614342  0.551115  0.304046   \n",
       "pMEK_N          -0.125833 -0.036726  0.474147  0.377457  0.260668  0.876138   \n",
       "pNR1_N           0.190575  0.336462  0.754279  0.947872  0.869193  0.217390   \n",
       "pNR2A_N         -0.234694 -0.111070  0.359175  0.510043  0.510366  0.345792   \n",
       "pNR2B_N          0.194111  0.348099  0.698359  0.895077  0.859699  0.236671   \n",
       "pPKCAB_N         0.487781  0.517290  0.568619  0.444054  0.408496 -0.014834   \n",
       "pRSK_N           0.098242  0.150050  0.341372  0.239082  0.125001  0.560102   \n",
       "AKT_N            0.029194  0.197444  0.608680  0.703446  0.683275  0.428246   \n",
       "BRAF_N           0.909231  0.840714  0.355143  0.212241  0.212498 -0.009332   \n",
       "CAMKII_N        -0.023437  0.044283  0.570094  0.467345  0.369189  0.743416   \n",
       "CREB_N          -0.038237 -0.013433  0.425910  0.193995  0.088930  0.735872   \n",
       "ELK_N            0.340306  0.518036  0.728958  0.818283  0.782973  0.000550   \n",
       "ERK_N            0.459018  0.597691  0.736148  0.807475  0.850727 -0.019754   \n",
       "GSK3B_N          0.712573  0.818211  0.670463  0.670692  0.650874 -0.014784   \n",
       "JNK_N            0.188578  0.257729  0.632191  0.532911  0.433588  0.711441   \n",
       "MEK_N            0.172475  0.328805  0.766508  0.694457  0.578388  0.587349   \n",
       "TRKA_N           0.353350  0.517520  0.800254  0.856851  0.759242  0.355142   \n",
       "RSK_N           -0.055927 -0.022791  0.390159  0.255331  0.061744  0.777848   \n",
       "...                   ...       ...       ...       ...       ...       ...   \n",
       "CDK5_N           0.262185  0.373687  0.407107  0.376554  0.352904  0.055327   \n",
       "S6_N             0.394480  0.456054  0.107502  0.098275  0.071380 -0.151383   \n",
       "ADARB1_N         0.209928  0.292036  0.593530  0.574490  0.674846  0.067614   \n",
       "AcetylH3K9_N    -0.061148 -0.022537  0.037786 -0.123433 -0.131683  0.049657   \n",
       "RRP1_N          -0.094655 -0.127301  0.018995 -0.151141 -0.124900  0.177645   \n",
       "BAX_N            0.113728  0.270936  0.407293  0.482910  0.557244 -0.031377   \n",
       "ARC_N           -0.385758 -0.264132  0.127703  0.264181  0.263526  0.301811   \n",
       "ERBB4_N         -0.240245 -0.093370  0.202806  0.266332  0.212039  0.288594   \n",
       "nNOS_N          -0.063717  0.077481  0.182694  0.398612  0.308612  0.107211   \n",
       "Tau_N           -0.025217  0.086125  0.007952 -0.034449 -0.060835 -0.006871   \n",
       "GFAP_N           0.046232 -0.005386  0.062668 -0.140452 -0.085818  0.081060   \n",
       "GluR3_N         -0.031800 -0.024258 -0.031828  0.153647  0.149945 -0.310788   \n",
       "GluR4_N         -0.009162  0.053563  0.168193  0.224276  0.239858 -0.157372   \n",
       "IL1B_N          -0.475472 -0.419997 -0.264937 -0.200467 -0.262646  0.153767   \n",
       "P3525_N         -0.111968 -0.031813  0.206146  0.122002  0.017085  0.166046   \n",
       "pCASP9_N        -0.173961 -0.057316  0.056650  0.173310  0.139978  0.109505   \n",
       "PSD95_N         -0.191064 -0.054495  0.043637  0.312445  0.181602  0.208758   \n",
       "SNCA_N          -0.532242 -0.524592 -0.182768 -0.232277 -0.286551  0.361011   \n",
       "Ubiquitin_N     -0.484676 -0.387936  0.051538  0.106177  0.040598  0.611483   \n",
       "pGSK3B_Tyr216_N  0.261710  0.367572  0.183629  0.202998  0.081391 -0.004898   \n",
       "SHH_N           -0.233295 -0.224595 -0.080776 -0.141423 -0.259197  0.144670   \n",
       "BAD_N           -0.313693 -0.392302 -0.174017 -0.341432 -0.398054  0.270664   \n",
       "BCL2_N          -0.229677 -0.310137 -0.132020 -0.290608 -0.260422  0.229064   \n",
       "pS6_N           -0.385758 -0.264132  0.127703  0.264181  0.263526  0.301811   \n",
       "pCFOS_N         -0.324606 -0.396433 -0.249404 -0.364932 -0.415719  0.047835   \n",
       "SYP_N           -0.096660  0.030729  0.450433  0.473366  0.401290  0.249901   \n",
       "H3AcK18_N       -0.363787 -0.322935 -0.119196 -0.225549 -0.302659  0.326479   \n",
       "EGR1_N          -0.426834 -0.475570 -0.221713 -0.279915 -0.310935  0.242565   \n",
       "H3MeK4_N        -0.412101 -0.432018 -0.221859 -0.305798 -0.386468  0.286856   \n",
       "CaNA_N           0.561693  0.584472  0.262578  0.205463  0.187760 -0.239543   \n",
       "\n",
       "                  pBRAF_N  pCAMKII_N   pCREB_N    pELK_N    ...        SHH_N  \\\n",
       "DYRK1A_N        -0.132712  -0.208707  0.050257  0.677330    ...    -0.233295   \n",
       "ITSN1_N         -0.102318  -0.137693  0.211497  0.717790    ...    -0.224595   \n",
       "BDNF_N           0.390530   0.241885  0.603857  0.514643    ...    -0.080776   \n",
       "NR1_N            0.244224   0.297296  0.597443  0.467155    ...    -0.141423   \n",
       "NR2A_N           0.110929   0.275279  0.392849  0.462741    ...    -0.259197   \n",
       "pAKT_N           0.828465   0.461656  0.598918  0.082270    ...     0.144670   \n",
       "pBRAF_N          1.000000   0.375142  0.586992  0.160238    ...     0.134769   \n",
       "pCAMKII_N        0.375142   1.000000  0.404335 -0.083141    ...     0.045975   \n",
       "pCREB_N          0.586992   0.404335  1.000000  0.260379    ...     0.065719   \n",
       "pELK_N           0.160238  -0.083141  0.260379  1.000000    ...    -0.236353   \n",
       "pERK_N          -0.125016  -0.266722 -0.001652  0.623971    ...    -0.244988   \n",
       "pJNK_N           0.768906   0.563475  0.634465  0.157301    ...    -0.009200   \n",
       "PKCA_N           0.307347   0.362364  0.469677  0.333594    ...    -0.101781   \n",
       "pMEK_N           0.841829   0.496027  0.716401  0.194712    ...     0.060689   \n",
       "pNR1_N           0.267261   0.314555  0.543553  0.400312    ...    -0.141462   \n",
       "pNR2A_N          0.338934   0.615072  0.491131  0.032280    ...    -0.040331   \n",
       "pNR2B_N          0.253795   0.372675  0.524637  0.410375    ...    -0.121686   \n",
       "pPKCAB_N        -0.044026   0.107110  0.199281  0.297905    ...    -0.134564   \n",
       "pRSK_N           0.510807   0.448717  0.461687  0.086468    ...    -0.040791   \n",
       "AKT_N            0.442418   0.249177  0.549677  0.352265    ...     0.018773   \n",
       "BRAF_N           0.052549  -0.201936  0.124714  0.707956    ...    -0.172640   \n",
       "CAMKII_N         0.759418   0.312917  0.645023  0.355873    ...     0.111011   \n",
       "CREB_N           0.807087   0.325148  0.581837  0.208142    ...     0.101433   \n",
       "ELK_N            0.052328   0.150385  0.521767  0.421811    ...    -0.133533   \n",
       "ERK_N           -0.013989   0.013557  0.406422  0.483190    ...    -0.244561   \n",
       "GSK3B_N          0.029160  -0.009688  0.280475  0.688165    ...    -0.248969   \n",
       "JNK_N            0.764232   0.260097  0.630664  0.391981    ...     0.005349   \n",
       "MEK_N            0.610876   0.349021  0.746748  0.386280    ...     0.020188   \n",
       "TRKA_N           0.334092   0.295623  0.668495  0.427288    ...    -0.107882   \n",
       "RSK_N            0.778551   0.224062  0.650210  0.243046    ...     0.079930   \n",
       "...                   ...        ...       ...       ...    ...          ...   \n",
       "CDK5_N           0.039739  -0.029362  0.289121  0.122037    ...    -0.011779   \n",
       "S6_N            -0.219225  -0.127666  0.178180  0.033677    ...     0.010791   \n",
       "ADARB1_N         0.022082   0.193321  0.217488  0.215953    ...    -0.082443   \n",
       "AcetylH3K9_N    -0.010452   0.215524  0.124916 -0.201819    ...     0.057342   \n",
       "RRP1_N           0.202885  -0.053618  0.050421  0.036880    ...     0.087476   \n",
       "BAX_N           -0.038270   0.156161  0.249283  0.164873    ...    -0.131260   \n",
       "ARC_N            0.258775   0.392956  0.302119 -0.153887    ...     0.328273   \n",
       "ERBB4_N          0.204554   0.240443  0.356061 -0.158949    ...     0.327084   \n",
       "nNOS_N           0.085075   0.327051  0.341352 -0.078162    ...     0.199795   \n",
       "Tau_N           -0.031708  -0.025405  0.137388 -0.050098    ...     0.105856   \n",
       "GFAP_N           0.125593  -0.212104  0.007876  0.057528    ...     0.145950   \n",
       "GluR3_N         -0.220523   0.082639 -0.101101 -0.122014    ...     0.046429   \n",
       "GluR4_N         -0.120615   0.157184  0.091290 -0.058674    ...     0.025299   \n",
       "IL1B_N           0.141944   0.119587  0.047435 -0.381705    ...     0.516356   \n",
       "P3525_N          0.082865   0.069848  0.253598 -0.200533    ...     0.468320   \n",
       "pCASP9_N         0.076129   0.245935  0.271792 -0.193872    ...     0.134556   \n",
       "PSD95_N          0.162195   0.328554  0.395502 -0.117964    ...     0.190442   \n",
       "SNCA_N           0.364004   0.139908  0.082502 -0.248485    ...     0.475865   \n",
       "Ubiquitin_N      0.516054   0.599811  0.438512 -0.231873    ...     0.286422   \n",
       "pGSK3B_Tyr216_N -0.028703   0.069477  0.158654  0.088490    ...     0.311384   \n",
       "SHH_N            0.134769   0.045975  0.065719 -0.236353    ...     1.000000   \n",
       "BAD_N            0.271600   0.068730 -0.055512 -0.231700    ...     0.300840   \n",
       "BCL2_N           0.262730   0.009709 -0.093464 -0.080293    ...     0.235341   \n",
       "pS6_N            0.258775   0.392956  0.302119 -0.153887    ...     0.328273   \n",
       "pCFOS_N          0.145095  -0.052649 -0.171975 -0.220301    ...     0.494085   \n",
       "SYP_N            0.284492   0.248475  0.413060  0.040956    ...     0.055767   \n",
       "H3AcK18_N        0.284534   0.200028  0.217359 -0.249955    ...     0.267580   \n",
       "EGR1_N           0.287975   0.075171 -0.109569 -0.241959    ...     0.326794   \n",
       "H3MeK4_N         0.300328   0.063827  0.027473 -0.261017    ...     0.274783   \n",
       "CaNA_N          -0.213691  -0.376370  0.039517  0.253765    ...    -0.122415   \n",
       "\n",
       "                    BAD_N    BCL2_N     pS6_N   pCFOS_N     SYP_N  H3AcK18_N  \\\n",
       "DYRK1A_N        -0.313693 -0.229677 -0.385758 -0.324606 -0.096660  -0.363787   \n",
       "ITSN1_N         -0.392302 -0.310137 -0.264132 -0.396433  0.030729  -0.322935   \n",
       "BDNF_N          -0.174017 -0.132020  0.127703 -0.249404  0.450433  -0.119196   \n",
       "NR1_N           -0.341432 -0.290608  0.264181 -0.364932  0.473366  -0.225549   \n",
       "NR2A_N          -0.398054 -0.260422  0.263526 -0.415719  0.401290  -0.302659   \n",
       "pAKT_N           0.270664  0.229064  0.301811  0.047835  0.249901   0.326479   \n",
       "pBRAF_N          0.271600  0.262730  0.258775  0.145095  0.284492   0.284534   \n",
       "pCAMKII_N        0.068730  0.009709  0.392956 -0.052649  0.248475   0.200028   \n",
       "pCREB_N         -0.055512 -0.093464  0.302119 -0.171975  0.413060   0.217359   \n",
       "pELK_N          -0.231700 -0.080293 -0.153887 -0.220301  0.040956  -0.249955   \n",
       "pERK_N          -0.297801 -0.179986 -0.383440 -0.295996 -0.013233  -0.412935   \n",
       "pJNK_N           0.100297  0.111842  0.405913 -0.075843  0.456537   0.163547   \n",
       "PKCA_N          -0.040438 -0.146638 -0.056783 -0.215932  0.378089  -0.048359   \n",
       "pMEK_N           0.164307  0.137551  0.321143 -0.024556  0.335548   0.273313   \n",
       "pNR1_N          -0.313569 -0.227678  0.333244 -0.275283  0.453750  -0.196177   \n",
       "pNR2A_N         -0.121595 -0.032678  0.570484 -0.071730  0.471350  -0.004583   \n",
       "pNR2B_N         -0.336334 -0.186988  0.427447 -0.291901  0.508605  -0.246300   \n",
       "pPKCAB_N        -0.115577 -0.274773 -0.324667 -0.291249  0.206179  -0.138969   \n",
       "pRSK_N           0.120109 -0.110832 -0.073559 -0.151459  0.191602   0.217026   \n",
       "AKT_N           -0.182429 -0.070017  0.494143 -0.178546  0.406365  -0.091318   \n",
       "BRAF_N          -0.220380 -0.148340 -0.387970 -0.264191 -0.115173  -0.263463   \n",
       "CAMKII_N         0.128292  0.227667  0.318438  0.024969  0.333108   0.159297   \n",
       "CREB_N           0.263662  0.280983  0.159971  0.156580  0.259743   0.329034   \n",
       "ELK_N           -0.382720 -0.294929  0.251720 -0.338515  0.468104  -0.191267   \n",
       "ERK_N           -0.443368 -0.299609  0.147770 -0.474084  0.463873  -0.334271   \n",
       "GSK3B_N         -0.356496 -0.340168 -0.215067 -0.429998  0.209500  -0.301740   \n",
       "JNK_N            0.072915  0.072083  0.114923 -0.135579  0.358614   0.099639   \n",
       "MEK_N           -0.048222 -0.053712  0.257188 -0.197887  0.510864   0.048573   \n",
       "TRKA_N          -0.276324 -0.252812  0.208477 -0.429938  0.515574  -0.096762   \n",
       "RSK_N            0.206231  0.187967  0.113971  0.019365  0.216871   0.275252   \n",
       "...                   ...       ...       ...       ...       ...        ...   \n",
       "CDK5_N          -0.061380 -0.058840  0.089432 -0.222192  0.491987  -0.064213   \n",
       "S6_N            -0.101678 -0.212108 -0.137035 -0.296473  0.034249   0.174335   \n",
       "ADARB1_N        -0.240129 -0.237475  0.287204 -0.264800  0.439833  -0.185997   \n",
       "AcetylH3K9_N     0.205412 -0.013232 -0.086446 -0.015684 -0.058926   0.605106   \n",
       "RRP1_N           0.370650  0.417789 -0.010531  0.369656  0.010347   0.378909   \n",
       "BAX_N           -0.206238 -0.125536  0.287792 -0.229634  0.402275  -0.018940   \n",
       "ARC_N           -0.024163  0.099115  1.000000  0.081668  0.423289   0.097625   \n",
       "ERBB4_N         -0.008453  0.017034  0.709019  0.005076  0.540401   0.179627   \n",
       "nNOS_N          -0.149837 -0.185158  0.593161 -0.147761  0.349815   0.013066   \n",
       "Tau_N            0.019379 -0.057314  0.203163 -0.039286 -0.010648   0.496368   \n",
       "GFAP_N           0.339736  0.382096 -0.042435  0.334523  0.118309   0.289906   \n",
       "GluR3_N         -0.044384 -0.057540  0.213598  0.109757  0.262091  -0.214976   \n",
       "GluR4_N          0.065961 -0.002640  0.230731  0.030219  0.322700  -0.012466   \n",
       "IL1B_N           0.190156  0.217177  0.624321  0.367843  0.281466   0.241558   \n",
       "P3525_N          0.236564  0.097087  0.306981  0.145412  0.374732   0.357341   \n",
       "pCASP9_N        -0.061816 -0.071560  0.498698  0.084159  0.515466  -0.000596   \n",
       "PSD95_N         -0.118834 -0.090247  0.591057 -0.084191  0.448797   0.056452   \n",
       "SNCA_N           0.436347  0.497329  0.545939  0.572307  0.159102   0.306092   \n",
       "Ubiquitin_N      0.228977  0.239594  0.666575  0.181457  0.425996   0.370178   \n",
       "pGSK3B_Tyr216_N -0.026537 -0.200075  0.077993 -0.003936  0.351986  -0.025844   \n",
       "SHH_N            0.300840  0.235341  0.328273  0.494085  0.055767   0.267580   \n",
       "BAD_N            1.000000  0.596001 -0.024163  0.493322  0.045126   0.469740   \n",
       "BCL2_N           0.596001  1.000000  0.099115  0.477897  0.038032   0.310787   \n",
       "pS6_N           -0.024163  0.099115  1.000000  0.081668  0.423289   0.097625   \n",
       "pCFOS_N          0.493322  0.477897  0.081668  1.000000 -0.033400   0.275964   \n",
       "SYP_N            0.045126  0.038032  0.423289 -0.033400  1.000000   0.011713   \n",
       "H3AcK18_N        0.469740  0.310787  0.097625  0.275964  0.011713   1.000000   \n",
       "EGR1_N           0.636121  0.544002  0.205190  0.535964  0.093849   0.287723   \n",
       "H3MeK4_N         0.614039  0.493769  0.170678  0.418519 -0.030256   0.592655   \n",
       "CaNA_N          -0.243155 -0.251598 -0.344327 -0.299460  0.246653  -0.225460   \n",
       "\n",
       "                   EGR1_N  H3MeK4_N    CaNA_N  \n",
       "DYRK1A_N        -0.426834 -0.412101  0.561693  \n",
       "ITSN1_N         -0.475570 -0.432018  0.584472  \n",
       "BDNF_N          -0.221713 -0.221859  0.262578  \n",
       "NR1_N           -0.279915 -0.305798  0.205463  \n",
       "NR2A_N          -0.310935 -0.386468  0.187760  \n",
       "pAKT_N           0.242565  0.286856 -0.239543  \n",
       "pBRAF_N          0.287975  0.300328 -0.213691  \n",
       "pCAMKII_N        0.075171  0.063827 -0.376370  \n",
       "pCREB_N         -0.109569  0.027473  0.039517  \n",
       "pELK_N          -0.241959 -0.261017  0.253765  \n",
       "pERK_N          -0.397276 -0.445906  0.632224  \n",
       "pJNK_N           0.110223  0.090396 -0.178951  \n",
       "PKCA_N          -0.202585 -0.178282  0.317891  \n",
       "pMEK_N           0.144616  0.197886 -0.197515  \n",
       "pNR1_N          -0.180681 -0.236141  0.062633  \n",
       "pNR2A_N          0.042343 -0.063170 -0.294151  \n",
       "pNR2B_N         -0.184264 -0.267939  0.054872  \n",
       "pPKCAB_N        -0.353690 -0.332389  0.583033  \n",
       "pRSK_N          -0.050492  0.057533  0.151377  \n",
       "AKT_N            0.006370 -0.095527 -0.104340  \n",
       "BRAF_N          -0.350259 -0.313435  0.534613  \n",
       "CAMKII_N         0.170495  0.177609 -0.113329  \n",
       "CREB_N           0.247408  0.277180 -0.096360  \n",
       "ELK_N           -0.314015 -0.314354  0.245124  \n",
       "ERK_N           -0.400558 -0.446420  0.442512  \n",
       "GSK3B_N         -0.435558 -0.442435  0.579284  \n",
       "JNK_N            0.005502  0.023094  0.168970  \n",
       "MEK_N           -0.059419 -0.069182  0.160596  \n",
       "TRKA_N          -0.327187 -0.273464  0.382005  \n",
       "RSK_N            0.148288  0.233693 -0.034543  \n",
       "...                   ...       ...       ...  \n",
       "CDK5_N          -0.150080 -0.144886  0.590579  \n",
       "S6_N            -0.269596 -0.051837  0.495317  \n",
       "ADARB1_N        -0.230010 -0.307464  0.206100  \n",
       "AcetylH3K9_N    -0.047091  0.329448 -0.042659  \n",
       "RRP1_N           0.225708  0.428052 -0.144476  \n",
       "BAX_N           -0.215423 -0.132981  0.251173  \n",
       "ARC_N            0.205190  0.170678 -0.344327  \n",
       "ERBB4_N          0.156546  0.176197  0.024355  \n",
       "nNOS_N          -0.080631 -0.058136 -0.020073  \n",
       "Tau_N           -0.017596  0.424126 -0.023516  \n",
       "GFAP_N           0.207607  0.386601  0.125023  \n",
       "GluR3_N          0.120691 -0.109249  0.081326  \n",
       "GluR4_N          0.082466  0.009563  0.039744  \n",
       "IL1B_N           0.427034  0.310311 -0.206337  \n",
       "P3525_N          0.095789  0.164760  0.198036  \n",
       "pCASP9_N         0.055927 -0.065878  0.096780  \n",
       "PSD95_N          0.017304  0.001015  0.084420  \n",
       "SNCA_N           0.590126  0.477009 -0.520543  \n",
       "Ubiquitin_N      0.285491  0.293410 -0.409231  \n",
       "pGSK3B_Tyr216_N -0.097983 -0.183040  0.512885  \n",
       "SHH_N            0.326794  0.274783 -0.122415  \n",
       "BAD_N            0.636121  0.614039 -0.243155  \n",
       "BCL2_N           0.544002  0.493769 -0.251598  \n",
       "pS6_N            0.205190  0.170678 -0.344327  \n",
       "pCFOS_N          0.535964  0.418519 -0.299460  \n",
       "SYP_N            0.093849 -0.030256  0.246653  \n",
       "H3AcK18_N        0.287723  0.592655 -0.225460  \n",
       "EGR1_N           1.000000  0.523366 -0.399805  \n",
       "H3MeK4_N         0.523366  1.000000 -0.361742  \n",
       "CaNA_N          -0.399805 -0.361742  1.000000  \n",
       "\n",
       "[77 rows x 77 columns]"
      ]
     },
     "execution_count": 14,
     "metadata": {},
     "output_type": "execute_result"
    }
   ],
   "source": [
    "df.drop(columns=['Empty Cells'],inplace =True)\n",
    "df.corr()"
   ]
  },
  {
   "cell_type": "markdown",
   "metadata": {},
   "source": [
    "### Exploring the data through visualisations"
   ]
  },
  {
   "cell_type": "code",
   "execution_count": 15,
   "metadata": {},
   "outputs": [
    {
     "data": {
      "text/plain": [
       "<matplotlib.axes._subplots.AxesSubplot at 0x269b715ff98>"
      ]
     },
     "execution_count": 15,
     "metadata": {},
     "output_type": "execute_result"
    },
    {
     "data": {
      "image/png": "[encoded data removed]",
      "text/plain": [
       "<Figure size 432x288 with 1 Axes>"
      ]
     },
     "metadata": {
      "needs_background": "light"
     },
     "output_type": "display_data"
    }
   ],
   "source": [
    "sns.distplot(df['DYRK1A_N'], kde=False, color='red', bins=50,hist_kws = dict(lw=2,edgecolor='black'))"
   ]
  },
  {
   "cell_type": "code",
   "execution_count": 16,
   "metadata": {},
   "outputs": [
    {
     "data": {
      "text/plain": [
       "<matplotlib.axes._subplots.AxesSubplot at 0x269b76cab70>"
      ]
     },
     "execution_count": 16,
     "metadata": {},
     "output_type": "execute_result"
    },
    {
     "data": {
      "image/png": "[encoded data removed]",
      "text/plain": [
       "<Figure size 432x288 with 1 Axes>"
      ]
     },
     "metadata": {
      "needs_background": "light"
     },
     "output_type": "display_data"
    }
   ],
   "source": [
    "sns.distplot(df['NR1_N'], kde=False, color='red', bins=50,hist_kws = dict(lw=2,edgecolor='black'))"
   ]
  },
  {
   "cell_type": "code",
   "execution_count": 17,
   "metadata": {},
   "outputs": [
    {
     "data": {
      "text/plain": [
       "<matplotlib.axes._subplots.AxesSubplot at 0x269b5a83208>"
      ]
     },
     "execution_count": 17,
     "metadata": {},
     "output_type": "execute_result"
    },
    {
     "data": {
      "image/png": "[encoded data removed]",
      "text/plain": [
       "<Figure size 432x288 with 1 Axes>"
      ]
     },
     "metadata": {
      "needs_background": "light"
     },
     "output_type": "display_data"
    }
   ],
   "source": [
    "sns.distplot(df['pBRAF_N'], kde=False, color='red', bins=50,hist_kws = dict(lw=2,edgecolor='black'))"
   ]
  },
  {
   "cell_type": "code",
   "execution_count": 18,
   "metadata": {},
   "outputs": [
    {
     "data": {
      "text/plain": [
       "<matplotlib.axes._subplots.AxesSubplot at 0x269b778f668>"
      ]
     },
     "execution_count": 18,
     "metadata": {},
     "output_type": "execute_result"
    },
    {
     "data": {
      "image/png": "[encoded data removed]",
      "text/plain": [
       "<Figure size 432x288 with 1 Axes>"
      ]
     },
     "metadata": {
      "needs_background": "light"
     },
     "output_type": "display_data"
    }
   ],
   "source": [
    "sns.distplot(df['pELK_N'], kde=False, color='red', bins=50,hist_kws = dict(lw=2,edgecolor='black'))"
   ]
  },
  {
   "cell_type": "code",
   "execution_count": 19,
   "metadata": {},
   "outputs": [
    {
     "data": {
      "text/plain": [
       "<matplotlib.axes._subplots.AxesSubplot at 0x269b7873be0>"
      ]
     },
     "execution_count": 19,
     "metadata": {},
     "output_type": "execute_result"
    },
    {
     "data": {
      "image/png": "[encoded data removed]",
      "text/plain": [
       "<Figure size 432x288 with 1 Axes>"
      ]
     },
     "metadata": {
      "needs_background": "light"
     },
     "output_type": "display_data"
    }
   ],
   "source": [
    "sns.distplot(df['H3MeK4_N'], kde=False, color='red', bins=50,hist_kws = dict(lw=2,edgecolor='black'))"
   ]
  },
  {
   "cell_type": "code",
   "execution_count": 20,
   "metadata": {},
   "outputs": [
    {
     "data": {
      "text/plain": [
       "<matplotlib.axes._subplots.AxesSubplot at 0x269b7a4dcf8>"
      ]
     },
     "execution_count": 20,
     "metadata": {},
     "output_type": "execute_result"
    },
    {
     "data": {
      "image/png": "[encoded data removed]",
      "text/plain": [
       "<Figure size 432x288 with 1 Axes>"
      ]
     },
     "metadata": {
      "needs_background": "light"
     },
     "output_type": "display_data"
    }
   ],
   "source": [
    "sns.distplot(df['pCFOS_N'], kde=False, color='red', bins=50,hist_kws = dict(lw=2,edgecolor='black'))"
   ]
  },
  {
   "cell_type": "code",
   "execution_count": 21,
   "metadata": {},
   "outputs": [
    {
     "data": {
      "text/plain": [
       "<matplotlib.axes._subplots.AxesSubplot at 0x269b7b62be0>"
      ]
     },
     "execution_count": 21,
     "metadata": {},
     "output_type": "execute_result"
    },
    {
     "data": {
      "image/png": "[encoded data removed]",
      "text/plain": [
       "<Figure size 432x288 with 1 Axes>"
      ]
     },
     "metadata": {
      "needs_background": "light"
     },
     "output_type": "display_data"
    }
   ],
   "source": [
    "sns.distplot(df['BAD_N'], kde=False, color='red', bins=50,hist_kws = dict(lw=2,edgecolor='black'))"
   ]
  },
  {
   "cell_type": "code",
   "execution_count": 22,
   "metadata": {},
   "outputs": [
    {
     "data": {
      "text/plain": [
       "<matplotlib.axes._subplots.AxesSubplot at 0x269b7adbcc0>"
      ]
     },
     "execution_count": 22,
     "metadata": {},
     "output_type": "execute_result"
    },
    {
     "data": {
      "image/png": "[encoded data removed]",
      "text/plain": [
       "<Figure size 432x288 with 1 Axes>"
      ]
     },
     "metadata": {
      "needs_background": "light"
     },
     "output_type": "display_data"
    }
   ],
   "source": [
    "sns.distplot(df['SHH_N'], kde=False, color='red', bins=50,hist_kws = dict(lw=2,edgecolor='black'))"
   ]
  },
  {
   "cell_type": "code",
   "execution_count": 23,
   "metadata": {},
   "outputs": [
    {
     "data": {
      "text/plain": [
       "<matplotlib.axes._subplots.AxesSubplot at 0x269b7cc66a0>"
      ]
     },
     "execution_count": 23,
     "metadata": {},
     "output_type": "execute_result"
    },
    {
     "data": {
      "image/png": "[encoded data removed]",
      "text/plain": [
       "<Figure size 432x288 with 1 Axes>"
      ]
     },
     "metadata": {
      "needs_background": "light"
     },
     "output_type": "display_data"
    }
   ],
   "source": [
    "sns.distplot(df['ELK_N'], kde=False, color='red', bins=50,hist_kws = dict(lw=2,edgecolor='black'))"
   ]
  },
  {
   "cell_type": "code",
   "execution_count": 24,
   "metadata": {},
   "outputs": [
    {
     "data": {
      "text/plain": [
       "<matplotlib.axes._subplots.AxesSubplot at 0x269b7c7e128>"
      ]
     },
     "execution_count": 24,
     "metadata": {},
     "output_type": "execute_result"
    },
    {
     "data": {
      "image/png": "[encoded data removed]",
      "text/plain": [
       "<Figure size 432x288 with 1 Axes>"
      ]
     },
     "metadata": {
      "needs_background": "light"
     },
     "output_type": "display_data"
    }
   ],
   "source": [
    "sns.distplot(df['APP_N'], kde=False, color='red', bins=50,hist_kws = dict(lw=2,edgecolor='black'))"
   ]
  },
  {
   "cell_type": "code",
   "execution_count": null,
   "metadata": {},
   "outputs": [],
   "source": []
  },
  {
   "cell_type": "code",
   "execution_count": 25,
   "metadata": {},
   "outputs": [
    {
     "data": {
      "text/plain": [
       "<matplotlib.axes._subplots.AxesSubplot at 0x269b7e96550>"
      ]
     },
     "execution_count": 25,
     "metadata": {},
     "output_type": "execute_result"
    },
    {
     "data": {
      "image/png": "[encoded data removed]",
      "text/plain": [
       "<Figure size 432x288 with 1 Axes>"
      ]
     },
     "metadata": {
      "needs_background": "light"
     },
     "output_type": "display_data"
    }
   ],
   "source": [
    "sns.boxplot(x=\"class\", y=\"SOD1_N\", data=df)"
   ]
  },
  {
   "cell_type": "code",
   "execution_count": 26,
   "metadata": {},
   "outputs": [
    {
     "data": {
      "text/plain": [
       "<matplotlib.axes._subplots.AxesSubplot at 0x269b7f9cf28>"
      ]
     },
     "execution_count": 26,
     "metadata": {},
     "output_type": "execute_result"
    },
    {
     "data": {
      "image/png": "[encoded data removed]",
      "text/plain": [
       "<Figure size 432x288 with 1 Axes>"
      ]
     },
     "metadata": {
      "needs_background": "light"
     },
     "output_type": "display_data"
    }
   ],
   "source": [
    "sns.boxplot(x=\"class\", y=\"pCAMKII_N\", data=df)"
   ]
  },
  {
   "cell_type": "code",
   "execution_count": 27,
   "metadata": {},
   "outputs": [
    {
     "data": {
      "text/plain": [
       "<matplotlib.axes._subplots.AxesSubplot at 0x269b805ca20>"
      ]
     },
     "execution_count": 27,
     "metadata": {},
     "output_type": "execute_result"
    },
    {
     "data": {
      "image/png": "[encoded data removed]",
      "text/plain": [
       "<Figure size 432x288 with 1 Axes>"
      ]
     },
     "metadata": {
      "needs_background": "light"
     },
     "output_type": "display_data"
    }
   ],
   "source": [
    "sns.boxplot(x=\"class\", y=\"Ubiquitin_N\", data=df)"
   ]
  },
  {
   "cell_type": "code",
   "execution_count": 28,
   "metadata": {},
   "outputs": [
    {
     "data": {
      "text/plain": [
       "<matplotlib.axes._subplots.AxesSubplot at 0x269b7b3cf98>"
      ]
     },
     "execution_count": 28,
     "metadata": {},
     "output_type": "execute_result"
    },
    {
     "data": {
      "image/png": "[encoded data removed]",
      "text/plain": [
       "<Figure size 432x288 with 1 Axes>"
      ]
     },
     "metadata": {
      "needs_background": "light"
     },
     "output_type": "display_data"
    }
   ],
   "source": [
    "sns.boxplot(x=\"class\", y=\"CaNA_N\", data=df)"
   ]
  },
  {
   "cell_type": "code",
   "execution_count": 29,
   "metadata": {},
   "outputs": [
    {
     "data": {
      "text/plain": [
       "<matplotlib.axes._subplots.AxesSubplot at 0x269b82356a0>"
      ]
     },
     "execution_count": 29,
     "metadata": {},
     "output_type": "execute_result"
    },
    {
     "data": {
      "image/png": "[encoded data removed]",
      "text/plain": [
       "<Figure size 432x288 with 1 Axes>"
      ]
     },
     "metadata": {
      "needs_background": "light"
     },
     "output_type": "display_data"
    }
   ],
   "source": [
    "sns.boxplot(x=\"class\", y=\"pPKCAB_N\", data=df)"
   ]
  },
  {
   "cell_type": "code",
   "execution_count": 30,
   "metadata": {},
   "outputs": [
    {
     "data": {
      "text/plain": [
       "<matplotlib.axes._subplots.AxesSubplot at 0x269b8136978>"
      ]
     },
     "execution_count": 30,
     "metadata": {},
     "output_type": "execute_result"
    },
    {
     "data": {
      "image/png": "[encoded data removed]",
      "text/plain": [
       "<Figure size 432x288 with 1 Axes>"
      ]
     },
     "metadata": {
      "needs_background": "light"
     },
     "output_type": "display_data"
    }
   ],
   "source": [
    "sns.boxplot(x=\"class\", y=\"pGSK3B_N\", data=df)"
   ]
  },
  {
   "cell_type": "code",
   "execution_count": 31,
   "metadata": {},
   "outputs": [
    {
     "data": {
      "text/plain": [
       "<matplotlib.axes._subplots.AxesSubplot at 0x269b93edc88>"
      ]
     },
     "execution_count": 31,
     "metadata": {},
     "output_type": "execute_result"
    },
    {
     "data": {
      "image/png": "[encoded data removed]",
      "text/plain": [
       "<Figure size 432x288 with 1 Axes>"
      ]
     },
     "metadata": {
      "needs_background": "light"
     },
     "output_type": "display_data"
    }
   ],
   "source": [
    "sns.boxplot(x=\"class\", y=\"AcetylH3K9_N\", data=df)"
   ]
  },
  {
   "cell_type": "code",
   "execution_count": 32,
   "metadata": {},
   "outputs": [
    {
     "data": {
      "text/plain": [
       "<matplotlib.axes._subplots.AxesSubplot at 0x269b94d0780>"
      ]
     },
     "execution_count": 32,
     "metadata": {},
     "output_type": "execute_result"
    },
    {
     "data": {
      "image/png": "[encoded data removed]",
      "text/plain": [
       "<Figure size 432x288 with 1 Axes>"
      ]
     },
     "metadata": {
      "needs_background": "light"
     },
     "output_type": "display_data"
    }
   ],
   "source": [
    "sns.boxplot(x=\"class\", y=\"APP_N\", data=df)"
   ]
  },
  {
   "cell_type": "code",
   "execution_count": 33,
   "metadata": {},
   "outputs": [
    {
     "data": {
      "text/plain": [
       "<matplotlib.axes._subplots.AxesSubplot at 0x269b95ab908>"
      ]
     },
     "execution_count": 33,
     "metadata": {},
     "output_type": "execute_result"
    },
    {
     "data": {
      "image/png": "[encoded data removed]",
      "text/plain": [
       "<Figure size 432x288 with 1 Axes>"
      ]
     },
     "metadata": {
      "needs_background": "light"
     },
     "output_type": "display_data"
    }
   ],
   "source": [
    "sns.boxplot(x=\"class\", y=\"pPKCG_N\", data=df)"
   ]
  },
  {
   "cell_type": "code",
   "execution_count": 34,
   "metadata": {},
   "outputs": [
    {
     "data": {
      "text/plain": [
       "<matplotlib.axes._subplots.AxesSubplot at 0x269b9696908>"
      ]
     },
     "execution_count": 34,
     "metadata": {},
     "output_type": "execute_result"
    },
    {
     "data": {
      "image/png": "[encoded data removed]",
      "text/plain": [
       "<Figure size 432x288 with 1 Axes>"
      ]
     },
     "metadata": {
      "needs_background": "light"
     },
     "output_type": "display_data"
    }
   ],
   "source": [
    "sns.boxplot(x=\"class\", y=\"S6_N\", data=df)"
   ]
  },
  {
   "cell_type": "markdown",
   "metadata": {},
   "source": [
    "### Removing the unnecessary features and scaling "
   ]
  },
  {
   "cell_type": "markdown",
   "metadata": {},
   "source": [
    "Separating the target variable into a different dataframe.\n",
    "Genotype,Treatment,Behaviour columns information is represted in the 'class' column and we see that they do not provide any special values independantly.\n",
    " Hence we remove the 3 columns before feeding it into models for analysis."
   ]
  },
  {
   "cell_type": "code",
   "execution_count": 35,
   "metadata": {},
   "outputs": [
    {
     "data": {
      "text/plain": [
       "(1077, 77)"
      ]
     },
     "execution_count": 35,
     "metadata": {},
     "output_type": "execute_result"
    }
   ],
   "source": [
    "target = df['class']\n",
    "data = df.drop(columns=['Genotype','Treatment','Behavior','class'])\n",
    "\n",
    "columnNames = data.columns\n",
    "data.shape"
   ]
  },
  {
   "cell_type": "code",
   "execution_count": 36,
   "metadata": {},
   "outputs": [
    {
     "data": {
      "text/html": [
       "<div>\n",
       "<style scoped>\n",
       "    .dataframe tbody tr th:only-of-type {\n",
       "        vertical-align: middle;\n",
       "    }\n",
       "\n",
       "    .dataframe tbody tr th {\n",
       "        vertical-align: top;\n",
       "    }\n",
       "\n",
       "    .dataframe thead th {\n",
       "        text-align: right;\n",
       "    }\n",
       "</style>\n",
       "<table border=\"1\" class=\"dataframe\">\n",
       "  <thead>\n",
       "    <tr style=\"text-align: right;\">\n",
       "      <th></th>\n",
       "      <th>DYRK1A_N</th>\n",
       "      <th>ITSN1_N</th>\n",
       "      <th>BDNF_N</th>\n",
       "      <th>NR1_N</th>\n",
       "      <th>NR2A_N</th>\n",
       "      <th>pAKT_N</th>\n",
       "      <th>pBRAF_N</th>\n",
       "      <th>pCAMKII_N</th>\n",
       "      <th>pCREB_N</th>\n",
       "      <th>pELK_N</th>\n",
       "      <th>...</th>\n",
       "      <th>SHH_N</th>\n",
       "      <th>BAD_N</th>\n",
       "      <th>BCL2_N</th>\n",
       "      <th>pS6_N</th>\n",
       "      <th>pCFOS_N</th>\n",
       "      <th>SYP_N</th>\n",
       "      <th>H3AcK18_N</th>\n",
       "      <th>EGR1_N</th>\n",
       "      <th>H3MeK4_N</th>\n",
       "      <th>CaNA_N</th>\n",
       "    </tr>\n",
       "  </thead>\n",
       "  <tbody>\n",
       "    <tr>\n",
       "      <th>0</th>\n",
       "      <td>0.623187</td>\n",
       "      <td>0.534980</td>\n",
       "      <td>0.824638</td>\n",
       "      <td>0.612119</td>\n",
       "      <td>0.691296</td>\n",
       "      <td>0.344883</td>\n",
       "      <td>0.448666</td>\n",
       "      <td>0.212075</td>\n",
       "      <td>0.617322</td>\n",
       "      <td>0.512340</td>\n",
       "      <td>...</td>\n",
       "      <td>0.162941</td>\n",
       "      <td>0.177312</td>\n",
       "      <td>0.269676</td>\n",
       "      <td>0.426816</td>\n",
       "      <td>0.133930</td>\n",
       "      <td>0.336299</td>\n",
       "      <td>0.137602</td>\n",
       "      <td>0.102890</td>\n",
       "      <td>0.084580</td>\n",
       "      <td>0.705738</td>\n",
       "    </tr>\n",
       "    <tr>\n",
       "      <th>1</th>\n",
       "      <td>0.642272</td>\n",
       "      <td>0.473011</td>\n",
       "      <td>0.776455</td>\n",
       "      <td>0.601070</td>\n",
       "      <td>0.641697</td>\n",
       "      <td>0.328937</td>\n",
       "      <td>0.429899</td>\n",
       "      <td>0.195270</td>\n",
       "      <td>0.590173</td>\n",
       "      <td>0.452436</td>\n",
       "      <td>...</td>\n",
       "      <td>0.220010</td>\n",
       "      <td>0.146494</td>\n",
       "      <td>0.269676</td>\n",
       "      <td>0.429952</td>\n",
       "      <td>0.110434</td>\n",
       "      <td>0.365208</td>\n",
       "      <td>0.126584</td>\n",
       "      <td>0.115874</td>\n",
       "      <td>0.093977</td>\n",
       "      <td>0.749771</td>\n",
       "    </tr>\n",
       "    <tr>\n",
       "      <th>2</th>\n",
       "      <td>0.632821</td>\n",
       "      <td>0.516914</td>\n",
       "      <td>0.793572</td>\n",
       "      <td>0.558911</td>\n",
       "      <td>0.631459</td>\n",
       "      <td>0.323118</td>\n",
       "      <td>0.441381</td>\n",
       "      <td>0.193455</td>\n",
       "      <td>0.607102</td>\n",
       "      <td>0.438848</td>\n",
       "      <td>...</td>\n",
       "      <td>0.186816</td>\n",
       "      <td>0.155920</td>\n",
       "      <td>0.269676</td>\n",
       "      <td>0.448652</td>\n",
       "      <td>0.121560</td>\n",
       "      <td>0.353621</td>\n",
       "      <td>0.126229</td>\n",
       "      <td>0.109050</td>\n",
       "      <td>0.082162</td>\n",
       "      <td>0.868229</td>\n",
       "    </tr>\n",
       "    <tr>\n",
       "      <th>3</th>\n",
       "      <td>0.516161</td>\n",
       "      <td>0.396269</td>\n",
       "      <td>0.637326</td>\n",
       "      <td>0.468152</td>\n",
       "      <td>0.527007</td>\n",
       "      <td>0.353873</td>\n",
       "      <td>0.444307</td>\n",
       "      <td>0.166469</td>\n",
       "      <td>0.486945</td>\n",
       "      <td>0.451936</td>\n",
       "      <td>...</td>\n",
       "      <td>0.179047</td>\n",
       "      <td>0.229602</td>\n",
       "      <td>0.269676</td>\n",
       "      <td>0.392700</td>\n",
       "      <td>0.151031</td>\n",
       "      <td>0.265619</td>\n",
       "      <td>0.198858</td>\n",
       "      <td>0.164241</td>\n",
       "      <td>0.144543</td>\n",
       "      <td>0.721879</td>\n",
       "    </tr>\n",
       "    <tr>\n",
       "      <th>4</th>\n",
       "      <td>0.503697</td>\n",
       "      <td>0.396646</td>\n",
       "      <td>0.637787</td>\n",
       "      <td>0.426467</td>\n",
       "      <td>0.484608</td>\n",
       "      <td>0.332195</td>\n",
       "      <td>0.433100</td>\n",
       "      <td>0.162702</td>\n",
       "      <td>0.410194</td>\n",
       "      <td>0.416722</td>\n",
       "      <td>...</td>\n",
       "      <td>0.245702</td>\n",
       "      <td>0.215008</td>\n",
       "      <td>0.269676</td>\n",
       "      <td>0.410187</td>\n",
       "      <td>0.147711</td>\n",
       "      <td>0.350381</td>\n",
       "      <td>0.152103</td>\n",
       "      <td>0.136298</td>\n",
       "      <td>0.149281</td>\n",
       "      <td>0.812053</td>\n",
       "    </tr>\n",
       "  </tbody>\n",
       "</table>\n",
       "<p>5 rows × 77 columns</p>\n",
       "</div>"
      ],
      "text/plain": [
       "   DYRK1A_N   ITSN1_N    BDNF_N     NR1_N    NR2A_N    pAKT_N   pBRAF_N  \\\n",
       "0  0.623187  0.534980  0.824638  0.612119  0.691296  0.344883  0.448666   \n",
       "1  0.642272  0.473011  0.776455  0.601070  0.641697  0.328937  0.429899   \n",
       "2  0.632821  0.516914  0.793572  0.558911  0.631459  0.323118  0.441381   \n",
       "3  0.516161  0.396269  0.637326  0.468152  0.527007  0.353873  0.444307   \n",
       "4  0.503697  0.396646  0.637787  0.426467  0.484608  0.332195  0.433100   \n",
       "\n",
       "   pCAMKII_N   pCREB_N    pELK_N    ...        SHH_N     BAD_N    BCL2_N  \\\n",
       "0   0.212075  0.617322  0.512340    ...     0.162941  0.177312  0.269676   \n",
       "1   0.195270  0.590173  0.452436    ...     0.220010  0.146494  0.269676   \n",
       "2   0.193455  0.607102  0.438848    ...     0.186816  0.155920  0.269676   \n",
       "3   0.166469  0.486945  0.451936    ...     0.179047  0.229602  0.269676   \n",
       "4   0.162702  0.410194  0.416722    ...     0.245702  0.215008  0.269676   \n",
       "\n",
       "      pS6_N   pCFOS_N     SYP_N  H3AcK18_N    EGR1_N  H3MeK4_N    CaNA_N  \n",
       "0  0.426816  0.133930  0.336299   0.137602  0.102890  0.084580  0.705738  \n",
       "1  0.429952  0.110434  0.365208   0.126584  0.115874  0.093977  0.749771  \n",
       "2  0.448652  0.121560  0.353621   0.126229  0.109050  0.082162  0.868229  \n",
       "3  0.392700  0.151031  0.265619   0.198858  0.164241  0.144543  0.721879  \n",
       "4  0.410187  0.147711  0.350381   0.152103  0.136298  0.149281  0.812053  \n",
       "\n",
       "[5 rows x 77 columns]"
      ]
     },
     "execution_count": 36,
     "metadata": {},
     "output_type": "execute_result"
    }
   ],
   "source": [
    "# Scaling the data\n",
    "from sklearn import preprocessing\n",
    "\n",
    "data = pd.DataFrame(preprocessing.MinMaxScaler().fit_transform(data))\n",
    "data.columns = columnNames\n",
    "\n",
    "data.head()"
   ]
  },
  {
   "cell_type": "markdown",
   "metadata": {},
   "source": [
    "## Modelling"
   ]
  },
  {
   "cell_type": "markdown",
   "metadata": {},
   "source": [
    "### KNN modelling"
   ]
  },
  {
   "cell_type": "code",
   "execution_count": 37,
   "metadata": {},
   "outputs": [
    {
     "data": {
      "text/plain": [
       "0.9753086419753086"
      ]
     },
     "execution_count": 37,
     "metadata": {},
     "output_type": "execute_result"
    }
   ],
   "source": [
    "# KNN Model with default parameters\n",
    "X_train, X_test, y_train, y_test = train_test_split(data,target, test_size=0.3, random_state=0)\n",
    "\n",
    "knn_clf = KNeighborsClassifier()    #n=5,p=2\n",
    "fit = knn_clf.fit(X_train,y_train)\n",
    "pred = fit.predict(X_test)\n",
    "accuracy_score(y_test,pred)"
   ]
  },
  {
   "cell_type": "code",
   "execution_count": 38,
   "metadata": {},
   "outputs": [
    {
     "data": {
      "text/plain": [
       "0.9814814814814815"
      ]
     },
     "execution_count": 38,
     "metadata": {},
     "output_type": "execute_result"
    }
   ],
   "source": [
    "knn_clf = KNeighborsClassifier(n_neighbors=3,p=2)    \n",
    "fit = knn_clf.fit(X_train,y_train)\n",
    "pred = fit.predict(X_test)\n",
    "accuracy_score(y_test,pred)"
   ]
  },
  {
   "cell_type": "code",
   "execution_count": 39,
   "metadata": {},
   "outputs": [
    {
     "data": {
      "text/plain": [
       "0.9660493827160493"
      ]
     },
     "execution_count": 39,
     "metadata": {},
     "output_type": "execute_result"
    }
   ],
   "source": [
    "knn_clf = KNeighborsClassifier(n_neighbors=5,p=1)    \n",
    "fit = knn_clf.fit(X_train,y_train)\n",
    "pred = fit.predict(X_test)\n",
    "accuracy_score(y_test,pred)"
   ]
  },
  {
   "cell_type": "code",
   "execution_count": 40,
   "metadata": {},
   "outputs": [
    {
     "data": {
      "text/plain": [
       "0.9845679012345679"
      ]
     },
     "execution_count": 40,
     "metadata": {},
     "output_type": "execute_result"
    }
   ],
   "source": [
    "knn_clf = KNeighborsClassifier(n_neighbors=3,p=1)    \n",
    "fit = knn_clf.fit(X_train,y_train)\n",
    "pred = fit.predict(X_test)\n",
    "accuracy_score(y_test,pred)"
   ]
  },
  {
   "cell_type": "code",
   "execution_count": null,
   "metadata": {},
   "outputs": [],
   "source": []
  },
  {
   "cell_type": "markdown",
   "metadata": {},
   "source": [
    "### Modelling using Decision Tree Classifier"
   ]
  },
  {
   "cell_type": "code",
   "execution_count": 41,
   "metadata": {},
   "outputs": [
    {
     "data": {
      "text/plain": [
       "0.808641975308642"
      ]
     },
     "execution_count": 41,
     "metadata": {},
     "output_type": "execute_result"
    }
   ],
   "source": [
    "# Now Applying Decision Tree models\n",
    "X_train, X_test, y_train, y_test = train_test_split(data,target, test_size=0.3, random_state=0)\n",
    "\n",
    "DT_clf = DecisionTreeClassifier()    #Criterion=Gini, Max Depth=none\n",
    "fit = DT_clf.fit(X_train,y_train)\n",
    "pred = fit.predict(X_test)\n",
    "accuracy_score(y_test,pred)"
   ]
  },
  {
   "cell_type": "code",
   "execution_count": 42,
   "metadata": {},
   "outputs": [
    {
     "data": {
      "text/plain": [
       "0.7870370370370371"
      ]
     },
     "execution_count": 42,
     "metadata": {},
     "output_type": "execute_result"
    }
   ],
   "source": [
    "DT_clf = DecisionTreeClassifier(criterion='entropy')    \n",
    "fit = DT_clf.fit(X_train,y_train)\n",
    "pred = fit.predict(X_test)\n",
    "accuracy_score(y_test,pred)"
   ]
  },
  {
   "cell_type": "code",
   "execution_count": 43,
   "metadata": {},
   "outputs": [
    {
     "data": {
      "text/plain": [
       "0.8055555555555556"
      ]
     },
     "execution_count": 43,
     "metadata": {},
     "output_type": "execute_result"
    }
   ],
   "source": [
    "DT_clf = DecisionTreeClassifier(criterion='entropy',max_depth = 11)    \n",
    "fit = DT_clf.fit(X_train,y_train)\n",
    "pred = fit.predict(X_test)\n",
    "accuracy_score(y_test,pred)"
   ]
  },
  {
   "cell_type": "code",
   "execution_count": 44,
   "metadata": {},
   "outputs": [
    {
     "data": {
      "text/plain": [
       "0.7993827160493827"
      ]
     },
     "execution_count": 44,
     "metadata": {},
     "output_type": "execute_result"
    }
   ],
   "source": [
    "DT_clf = DecisionTreeClassifier(criterion='gini',max_depth = 8)    \n",
    "fit = DT_clf.fit(X_train,y_train)\n",
    "pred = fit.predict(X_test)\n",
    "accuracy_score(y_test,pred)"
   ]
  },
  {
   "cell_type": "markdown",
   "metadata": {},
   "source": [
    "## Feature Selection Using Hill Climb Technique"
   ]
  },
  {
   "cell_type": "code",
   "execution_count": 45,
   "metadata": {},
   "outputs": [
    {
     "name": "stdout",
     "output_type": "stream",
     "text": [
      "Score with 20 selectedfeatures: 0.8148148148148148\n"
     ]
    }
   ],
   "source": [
    "from sklearn.utils import shuffle\n",
    "\n",
    "new_Ind = []\n",
    "cur_MaxScore = 0.0\n",
    "col_num = 77\n",
    "col_Ind_Random = shuffle(range(0,col_num), random_state=1)\n",
    "\n",
    "for cur_f in range(0, col_num):\n",
    "    new_Ind.append(col_Ind_Random[cur_f])\n",
    "    newData = data.iloc[:, new_Ind]\n",
    "    X_train, X_test, y_train, y_test = train_test_split(newData,target, test_size=0.3, random_state=0)\n",
    "    DT_clf =DecisionTreeClassifier(criterion='gini',max_depth = 8) \n",
    "    DT_fit = DT_clf.fit(X_train, y_train)\n",
    "    cur_Score = DT_clf.score(X_test, y_test)\n",
    "    if cur_Score < cur_MaxScore:\n",
    "        new_Ind.remove(col_Ind_Random[cur_f])\n",
    "    else:\n",
    "        cur_MaxScore = cur_Score\n",
    "print(\"Score with \" + str(len(new_Ind)) + \" selectedfeatures: \" + str(cur_Score))"
   ]
  },
  {
   "cell_type": "code",
   "execution_count": 46,
   "metadata": {},
   "outputs": [],
   "source": [
    "dtList = new_Ind[:len(new_Ind)]\n",
    "selected_data2 = data.iloc[:,dtList]"
   ]
  },
  {
   "cell_type": "code",
   "execution_count": 47,
   "metadata": {},
   "outputs": [
    {
     "name": "stdout",
     "output_type": "stream",
     "text": [
      "Accuracy Score with selected features is 0.845679012345679\n"
     ]
    }
   ],
   "source": [
    "X_train, X_test, y_train, y_test = train_test_split(selected_data2,target, test_size=0.3, random_state=0)\n",
    "\n",
    "DT_clf =DecisionTreeClassifier(criterion='gini',max_depth = 8)    \n",
    "DT_fit = DT_clf.fit(X_train, y_train)\n",
    "pred = DT_fit.predict(X_test)\n",
    "print(\"Accuracy Score with selected features is\",accuracy_score(y_test,pred))"
   ]
  },
  {
   "cell_type": "code",
   "execution_count": 48,
   "metadata": {},
   "outputs": [
    {
     "name": "stdout",
     "output_type": "stream",
     "text": [
      "Classification Report \n",
      "              precision    recall  f1-score   support\n",
      "\n",
      "     c-CS-m       0.80      0.86      0.83        37\n",
      "     c-CS-s       0.75      0.79      0.77        42\n",
      "     c-SC-m       0.89      0.91      0.90        43\n",
      "     c-SC-s       0.93      0.91      0.92        47\n",
      "     t-CS-m       0.77      0.75      0.76        44\n",
      "     t-CS-s       0.77      0.69      0.73        29\n",
      "     t-SC-m       0.85      0.93      0.89        43\n",
      "     t-SC-s       1.00      0.87      0.93        39\n",
      "\n",
      "avg / total       0.85      0.85      0.85       324\n",
      "\n"
     ]
    }
   ],
   "source": [
    "from sklearn.metrics import classification_report\n",
    "cr = classification_report(y_test,pred)\n",
    "print(\"Classification Report \\n\",cr)"
   ]
  },
  {
   "cell_type": "code",
   "execution_count": 49,
   "metadata": {},
   "outputs": [
    {
     "name": "stdout",
     "output_type": "stream",
     "text": [
      "Confusion Matrix \n",
      " [[32  0  0  0  5  0  0  0]\n",
      " [ 2 33  0  0  2  4  1  0]\n",
      " [ 0  0 39  2  0  0  2  0]\n",
      " [ 0  0  1 43  0  0  3  0]\n",
      " [ 4  6  0  0 33  1  0  0]\n",
      " [ 2  4  0  0  3 20  0  0]\n",
      " [ 0  0  2  1  0  0 40  0]\n",
      " [ 0  1  2  0  0  1  1 34]]\n"
     ]
    }
   ],
   "source": [
    "from sklearn.metrics import confusion_matrix\n",
    "cm = confusion_matrix(y_test,pred)\n",
    "print(\"Confusion Matrix \\n\",cm)"
   ]
  },
  {
   "cell_type": "code",
   "execution_count": 50,
   "metadata": {},
   "outputs": [
    {
     "data": {
      "text/plain": [
       "Index(['Bcatenin_N', 'NUMB_N', 'GluR3_N', 'GluR4_N', 'P3525_N', 'pERK_N',\n",
       "       'ARC_N', 'BDNF_N', 'pPKCG_N', 'pGSK3B_N', 'AKT_N', 'CaNA_N', 'pMTOR_N',\n",
       "       'nNOS_N', 'P70S6_N', 'Tau_N', 'pPKCAB_N', 'H3AcK18_N', 'BAX_N',\n",
       "       'BRAF_N'],\n",
       "      dtype='object')"
      ]
     },
     "execution_count": 50,
     "metadata": {},
     "output_type": "execute_result"
    }
   ],
   "source": [
    "selected_data2.columns"
   ]
  },
  {
   "cell_type": "code",
   "execution_count": null,
   "metadata": {},
   "outputs": [],
   "source": []
  }
 ],
 "metadata": {
  "kernelspec": {
   "display_name": "Python 3",
   "language": "python",
   "name": "python3"
  },
  "language_info": {
   "codemirror_mode": {
    "name": "ipython",
    "version": 3
   },
   "file_extension": ".py",
   "mimetype": "text/x-python",
   "name": "python",
   "nbconvert_exporter": "python",
   "pygments_lexer": "ipython3",
   "version": "3.7.0"
  }
 },
 "nbformat": 4,
 "nbformat_minor": 2
}
